{
 "cells": [
  {
   "cell_type": "code",
   "execution_count": 1,
   "metadata": {
    "colab": {},
    "colab_type": "code",
    "id": "AW0PCdIY05iJ"
   },
   "outputs": [],
   "source": [
    "!mkdir -p model\n",
    "# !pip install scikit-plot > /dev/null\n",
    "import os\n",
    "# os.environ[\"CUDA_VISIBLE_DEVICES\"]=\"1\""
   ]
  },
  {
   "cell_type": "code",
   "execution_count": 2,
   "metadata": {
    "colab": {},
    "colab_type": "code",
    "id": "XkeCgSndr0XI"
   },
   "outputs": [
    {
     "name": "stdout",
     "output_type": "stream",
     "text": [
      "WARNING: pip is being invoked by an old script wrapper. This will fail in a future version of pip.\n",
      "Please see https://github.com/pypa/pip/issues/5599 for advice on fixing the underlying issue.\n",
      "To avoid this problem you can invoke Python with '-m pip' instead of running pip directly.\n",
      "\u001b[33mWARNING: You are using pip version 20.0.2; however, version 20.1 is available.\n",
      "You should consider upgrading via the '/homes/nv304/virtpy3/bin/python -m pip install --upgrade pip' command.\u001b[0m\n"
     ]
    }
   ],
   "source": [
    "!pip install -q scikit-plot"
   ]
  },
  {
   "cell_type": "code",
   "execution_count": 3,
   "metadata": {
    "colab": {
     "base_uri": "https://localhost:8080/",
     "height": 36
    },
    "colab_type": "code",
    "id": "aCVW-3t905iX",
    "outputId": "1491573a-e3ff-4b95-8f24-491cf132cbd7",
    "scrolled": true
   },
   "outputs": [
    {
     "name": "stderr",
     "output_type": "stream",
     "text": [
      "Using TensorFlow backend.\n",
      "/homes/nv304/virtpy3/lib/python3.6/site-packages/tensorflow/python/framework/dtypes.py:526: FutureWarning: Passing (type, 1) or '1type' as a synonym of type is deprecated; in a future version of numpy, it will be understood as (type, (1,)) / '(1,)type'.\n",
      "  _np_qint8 = np.dtype([(\"qint8\", np.int8, 1)])\n",
      "/homes/nv304/virtpy3/lib/python3.6/site-packages/tensorflow/python/framework/dtypes.py:527: FutureWarning: Passing (type, 1) or '1type' as a synonym of type is deprecated; in a future version of numpy, it will be understood as (type, (1,)) / '(1,)type'.\n",
      "  _np_quint8 = np.dtype([(\"quint8\", np.uint8, 1)])\n",
      "/homes/nv304/virtpy3/lib/python3.6/site-packages/tensorflow/python/framework/dtypes.py:528: FutureWarning: Passing (type, 1) or '1type' as a synonym of type is deprecated; in a future version of numpy, it will be understood as (type, (1,)) / '(1,)type'.\n",
      "  _np_qint16 = np.dtype([(\"qint16\", np.int16, 1)])\n",
      "/homes/nv304/virtpy3/lib/python3.6/site-packages/tensorflow/python/framework/dtypes.py:529: FutureWarning: Passing (type, 1) or '1type' as a synonym of type is deprecated; in a future version of numpy, it will be understood as (type, (1,)) / '(1,)type'.\n",
      "  _np_quint16 = np.dtype([(\"quint16\", np.uint16, 1)])\n",
      "/homes/nv304/virtpy3/lib/python3.6/site-packages/tensorflow/python/framework/dtypes.py:530: FutureWarning: Passing (type, 1) or '1type' as a synonym of type is deprecated; in a future version of numpy, it will be understood as (type, (1,)) / '(1,)type'.\n",
      "  _np_qint32 = np.dtype([(\"qint32\", np.int32, 1)])\n",
      "/homes/nv304/virtpy3/lib/python3.6/site-packages/tensorflow/python/framework/dtypes.py:535: FutureWarning: Passing (type, 1) or '1type' as a synonym of type is deprecated; in a future version of numpy, it will be understood as (type, (1,)) / '(1,)type'.\n",
      "  np_resource = np.dtype([(\"resource\", np.ubyte, 1)])\n"
     ]
    }
   ],
   "source": [
    "import numpy as np\n",
    "import os,time\n",
    "import cv2\n",
    "import keras\n",
    "from keras import backend as K\n",
    "from keras import layers\n",
    "from keras import models\n",
    "from keras.datasets import mnist\n",
    "from keras.datasets import cifar10\n",
    "from sklearn.model_selection import train_test_split\n",
    "import matplotlib.pyplot as plt \n",
    "import pandas as pd\n",
    "from tensorflow.keras.utils import plot_model"
   ]
  },
  {
   "cell_type": "code",
   "execution_count": 4,
   "metadata": {
    "colab": {},
    "colab_type": "code",
    "id": "n0eCjkYD05in"
   },
   "outputs": [],
   "source": [
    "from numba import cuda"
   ]
  },
  {
   "cell_type": "code",
   "execution_count": 5,
   "metadata": {
    "colab": {},
    "colab_type": "code",
    "id": "MRxbh_Yp05iv"
   },
   "outputs": [],
   "source": [
    "batch_size = 128\n",
    "buffer_size = 10000\n",
    "steps_per_epoch = int(np.ceil(60000 / float(batch_size)))  # = 469\n",
    "epochs = 10\n",
    "result = pd.DataFrame()"
   ]
  },
  {
   "cell_type": "code",
   "execution_count": 6,
   "metadata": {
    "colab": {
     "base_uri": "https://localhost:8080/",
     "height": 114
    },
    "colab_type": "code",
    "id": "mOEMbFoL05i2",
    "outputId": "4770a36f-ee17-4882-c1f8-83adf98282cb"
   },
   "outputs": [
    {
     "name": "stdout",
     "output_type": "stream",
     "text": [
      "(40200, 32, 32, 3) (40200, 10)\n",
      "(19800, 32, 32, 3) (19800, 10)\n",
      "(10000, 32, 32, 3) (10000, 10)\n"
     ]
    }
   ],
   "source": [
    "def get_dataset(dataset_name,final_shape=(32,32),classes=10):\n",
    "    if dataset_name == \"mnist\":\n",
    "        (x_train, y_train), (x_test, y_test) = mnist.load_data()\n",
    "        x_train, x_val, y_train, y_val = train_test_split(x_train, y_train, test_size=0.33, shuffle=True ,random_state=42)\n",
    "        \n",
    "        pad_0 = int((final_shape[0]-28)/2)\n",
    "        pad_1 = int((final_shape[1]-28)/2)\n",
    "        \n",
    "        x_train = x_train.astype('float32')        \n",
    "        x_train = x_train.reshape(x_train.shape[0], 28, 28, 1)\n",
    "        x_train = np.pad(x_train, ((0,0),(pad_0,pad_1),(pad_0,pad_1),(0,0)), 'constant')\n",
    "        x_train = np.stack((x_train,)*3, axis=-1)\n",
    "        x_train = x_train[:,:,:,0,:]\n",
    "        \n",
    "        x_test = x_test.astype('float32')\n",
    "        x_test = x_test.reshape(x_test.shape[0], 28, 28, 1)\n",
    "        x_test = np.pad(x_test, ((0,0),(pad_0,pad_1),(pad_0,pad_1),(0,0)), 'constant')\n",
    "        x_test = np.stack((x_test,)*3, axis=-1)\n",
    "        x_test = x_test[:,:,:,0,:]\n",
    "        \n",
    "        x_val = x_val.astype('float32')\n",
    "        x_val = x_val.reshape(x_val.shape[0], 28, 28, 1)\n",
    "        x_val = np.pad(x_val, ((0,0),(pad_0,pad_1),(pad_0,pad_1),(0,0)), 'constant')\n",
    "        x_val = np.stack((x_val,)*3, axis=-1)\n",
    "        x_val = x_val[:,:,:,0,:]\n",
    "        \n",
    "        y_train = keras.utils.to_categorical(y_train, classes)\n",
    "        y_test = keras.utils.to_categorical(y_test, classes)\n",
    "        y_val = keras.utils.to_categorical(y_val, classes)\n",
    "        \n",
    "    if dataset_name == \"cifar10\":\n",
    "        (x_train, y_train), (x_test, y_test) = cifar10.load_data()\n",
    "        x_train, x_val, y_train, y_val = train_test_split(x_train, y_train, test_size=0.33, shuffle=True ,random_state=42)\n",
    "\n",
    "        pad_0 = int((final_shape[0]-32)/2)\n",
    "        pad_1 = int((final_shape[1]-32)/2)\n",
    "        \n",
    "        x_train = x_train.astype('float32')        \n",
    "        x_train = np.pad(x_train, ((0,0),(pad_0,pad_1),(pad_0,pad_1),(0,0)), 'constant')\n",
    "        \n",
    "        x_val = x_val.astype('float32')\n",
    "        x_val = np.pad(x_val, ((0,0),(pad_0,pad_1),(pad_0,pad_1),(0,0)), 'constant')\n",
    "        \n",
    "        x_test = x_test.astype('float32')\n",
    "        x_test = np.pad(x_test, ((0,0),(pad_0,pad_1),(pad_0,pad_1),(0,0)), 'constant')\n",
    "        \n",
    "        y_train = keras.utils.to_categorical(y_train, classes)\n",
    "        y_test = keras.utils.to_categorical(y_test, classes)\n",
    "        y_val = keras.utils.to_categorical(y_val, classes)\n",
    "        \n",
    "    return x_train, x_test, x_val, y_train, y_test, y_val\n",
    "\n",
    "(x_train, x_test, x_val, y_train, y_test, y_val) = get_dataset(\"mnist\",final_shape=(32,32),classes=10)\n",
    "print(x_train.shape,y_train.shape)\n",
    "print(x_val.shape, y_val.shape)\n",
    "print(x_test.shape,y_test.shape)"
   ]
  },
  {
   "cell_type": "code",
   "execution_count": 7,
   "metadata": {
    "colab": {
     "base_uri": "https://localhost:8080/",
     "height": 442
    },
    "colab_type": "code",
    "id": "ejDEeIWQ05i-",
    "outputId": "8ba69083-88f2-4fd0-a5a5-189500bc8a46"
   },
   "outputs": [
    {
     "name": "stderr",
     "output_type": "stream",
     "text": [
      "Clipping input data to the valid range for imshow with RGB data ([0..1] for floats or [0..255] for integers).\n",
      "Clipping input data to the valid range for imshow with RGB data ([0..1] for floats or [0..255] for integers).\n",
      "Clipping input data to the valid range for imshow with RGB data ([0..1] for floats or [0..255] for integers).\n",
      "Clipping input data to the valid range for imshow with RGB data ([0..1] for floats or [0..255] for integers).\n",
      "Clipping input data to the valid range for imshow with RGB data ([0..1] for floats or [0..255] for integers).\n",
      "Clipping input data to the valid range for imshow with RGB data ([0..1] for floats or [0..255] for integers).\n",
      "Clipping input data to the valid range for imshow with RGB data ([0..1] for floats or [0..255] for integers).\n",
      "Clipping input data to the valid range for imshow with RGB data ([0..1] for floats or [0..255] for integers).\n",
      "Clipping input data to the valid range for imshow with RGB data ([0..1] for floats or [0..255] for integers).\n"
     ]
    },
    {
     "data": {
      "image/png": "[encoded data removed]",
      "text/plain": [
       "<Figure size 432x288 with 9 Axes>"
      ]
     },
     "metadata": {
      "needs_background": "light"
     },
     "output_type": "display_data"
    }
   ],
   "source": [
    "import random\n",
    "%matplotlib inline\n",
    "\n",
    "# index = random.randint(0, len(data.x_train))\n",
    "# image = data.x_train[index].squeeze()\n",
    "\n",
    "# plt.figure(figsize=(5,5))\n",
    "# plt.imshow(image, cmap=\"gray\")\n",
    "# print(y_train[index])\n",
    "for i in range(9):\n",
    "    plt.subplot(330 + 1 + i)\n",
    "    plt.imshow(x_train[i], cmap=\"gray\")\n",
    "plt.show()"
   ]
  },
  {
   "cell_type": "code",
   "execution_count": 8,
   "metadata": {
    "colab": {},
    "colab_type": "code",
    "id": "4DhF5Qbc05jF"
   },
   "outputs": [],
   "source": [
    "def inception(x, filters):\n",
    "    # 1x1\n",
    "    path1 = layers.Conv2D(filters=filters[0], kernel_size=(1,1), strides=1, padding='same', activation='relu')(x)\n",
    "\n",
    "    # 1x1->3x3\n",
    "    path2 = layers.Conv2D(filters=filters[1][0], kernel_size=(1,1), strides=1, padding='same', activation='relu')(x)\n",
    "    path2 = layers.Conv2D(filters=filters[1][1], kernel_size=(3,3), strides=1, padding='same', activation='relu')(path2)\n",
    "    \n",
    "    # 1x1->5x5\n",
    "    path3 = layers.Conv2D(filters=filters[2][0], kernel_size=(1,1), strides=1, padding='same', activation='relu')(x)\n",
    "    path3 = layers.Conv2D(filters=filters[2][1], kernel_size=(5,5), strides=1, padding='same', activation='relu')(path3)\n",
    "\n",
    "    # 3x3->1x1\n",
    "    path4 = layers.MaxPooling2D(pool_size=(3,3), strides=1, padding='same')(x)\n",
    "    path4 = layers.Conv2D(filters=filters[3], kernel_size=(1,1), strides=1, padding='same', activation='relu')(path4)\n",
    "\n",
    "    return layers.Concatenate(axis=-1)([path1,path2,path3,path4])\n",
    "\n",
    "\n",
    "def auxiliary(x, classes,name=None):\n",
    "    layer = layers.AveragePooling2D(pool_size=(5,5), strides=3, padding='valid')(x)\n",
    "    layer = layers.Conv2D(filters=128, kernel_size=(1,1), strides=1, padding='same', activation='relu')(layer)\n",
    "    layer = layers.Flatten()(layer)\n",
    "    layer = layers.Dense(units=256, activation='relu')(layer)\n",
    "    layer = layers.Dropout(0.4)(layer)\n",
    "    layer = layers.Dense(units=classes, activation='softmax', name=name)(layer)\n",
    "    return layer\n",
    "\n",
    "\n",
    "def get_model(input_shape,classes=10,d_rate=0.2,act='softmax'):\n",
    "    inputs = layers.Input(shape=input_shape)\n",
    "    layer = layers.Conv2D(filters=64, kernel_size=(7,7), strides=2, padding='same', activation='relu')(inputs)\n",
    "    layer = layers.MaxPooling2D(pool_size=(3,3), strides=2, padding='same')(layer)\n",
    "    layer = layers.BatchNormalization()(layer)\n",
    "\n",
    "    # stage-2\n",
    "    layer = layers.Conv2D(filters=64, kernel_size=(1,1), strides=1, padding='same', activation='relu')(layer)\n",
    "    layer = layers.Conv2D(filters=192, kernel_size=(3,3), strides=1, padding='same', activation='relu')(layer)\n",
    "    layer = layers.BatchNormalization()(layer)\n",
    "    layer = layers.MaxPooling2D(pool_size=(3,3), strides=2, padding='same')(layer)\n",
    "\n",
    "    # stage-3\n",
    "    layer = inception(layer, [ 64,  (96,128), (16,32), 32]) #3a\n",
    "    layer = inception(layer, [128, (128,192), (32,96), 64]) #3b\n",
    "    layer = layers.MaxPooling2D(pool_size=(3,3), strides=2, padding='same')(layer)\n",
    "    \n",
    "    # stage-4\n",
    "    layer = inception(layer, [192,  (96,208),  (16,48),  64]) #4a\n",
    "    aux1  = auxiliary(layer, classes, name='aux1')\n",
    "    layer = inception(layer, [160, (112,224),  (24,64),  64]) #4b\n",
    "    layer = inception(layer, [128, (128,256),  (24,64),  64]) #4c\n",
    "    layer = inception(layer, [112, (144,288),  (32,64),  64]) #4d\n",
    "    aux2  = auxiliary(layer, classes, name='aux2')\n",
    "    layer = inception(layer, [256, (160,320), (32,128), 128]) #4e\n",
    "    layer = layers.MaxPooling2D(pool_size=(3,3), strides=2, padding='same')(layer)\n",
    "    \n",
    "    # stage-5\n",
    "    layer = inception(layer, [256, (160,320), (32,128), 128]) #5a\n",
    "    layer = inception(layer, [384, (192,384), (48,128), 128]) #5b\n",
    "    layer = layers.AveragePooling2D(pool_size=(7,7), strides=1, padding='valid')(layer)\n",
    "    \n",
    "    # stage-6\n",
    "    layer = layers.Flatten()(layer)\n",
    "    layer = layers.Dropout(d_rate)(layer)\n",
    "    layer = layers.Dense(units=256, activation='linear')(layer)\n",
    "    main = layers.Dense(units=classes, activation=act, name='main')(layer)\n",
    "    model = models.Model(inputs=inputs, outputs=[main, aux1, aux2])\n",
    "    return model"
   ]
  },
  {
   "cell_type": "code",
   "execution_count": 9,
   "metadata": {
    "colab": {},
    "colab_type": "code",
    "id": "XqrHvIzr05jL"
   },
   "outputs": [],
   "source": [
    "def get_optimiser(opt,learning_rate):\n",
    "    if opt=='sgd':\n",
    "        opt_type = keras.optimizers.SGD(lr=learning_rate,decay=1e-6,momentum=0.9,nesterov=True)\n",
    "    if opt=='adagrad':\n",
    "        opt_type = keras.optimizers.Adagrad(lr=learning_rate,epsilon=1e-08)\n",
    "    if opt=='adam':\n",
    "        opt_type = keras.optimizers.Adam(lr=learning_rate,beta_1=0.9,beta_2=0.999,epsilon=1e-08,amsgrad=False)\n",
    "    return opt_type"
   ]
  },
  {
   "cell_type": "markdown",
   "metadata": {
    "colab_type": "text",
    "id": "lWPYV7jI05jQ"
   },
   "source": [
    "## MNIST"
   ]
  },
  {
   "cell_type": "code",
   "execution_count": 10,
   "metadata": {
    "colab": {
     "base_uri": "https://localhost:8080/",
     "height": 56
    },
    "colab_type": "code",
    "id": "VD36MtEV05jR",
    "outputId": "aebe1128-d0de-41d4-d6e9-c581bb27937e"
   },
   "outputs": [
    {
     "name": "stdout",
     "output_type": "stream",
     "text": [
      "**Selecting Dataset mnist\n",
      "**Coverting  mnist  to 3 channel dims  (224, 224)\n",
      "**Dataset Dimensions:\n",
      "**Training Dataset Dims:  (40200, 224, 224, 3) (40200, 10)\n",
      "**Validation Dataset Dims:  (19800, 224, 224, 3) (19800, 10)\n",
      "**Test Dataset Dims:  (10000, 224, 224, 3) (10000, 10)\n"
     ]
    }
   ],
   "source": [
    "learning_rate = 0.01\n",
    "d_rate = 0.2\n",
    "act = 'softmax'\n",
    "opt = 'sgd'\n",
    "classes = 10\n",
    "dataset = \"mnist\"\n",
    "input_dims = (224,224)\n",
    "print(\"**Selecting Dataset\", dataset)\n",
    "print(\"**Coverting \",dataset,\" to 3 channel dims \",str(input_dims))\n",
    "x_train, x_test, x_val, y_train, y_test, y_val = get_dataset(dataset,final_shape=input_dims)\n",
    "print(\"**Dataset Dimensions:\")\n",
    "print(\"**Training Dataset Dims: \",x_train.shape,y_train.shape)\n",
    "print(\"**Validation Dataset Dims: \",x_val.shape,y_val.shape)\n",
    "print(\"**Test Dataset Dims: \",x_test.shape,y_test.shape)\n"
   ]
  },
  {
   "cell_type": "code",
   "execution_count": 11,
   "metadata": {
    "colab": {
     "base_uri": "https://localhost:8080/",
     "height": 515
    },
    "colab_type": "code",
    "id": "ke0c5Ufb7uoZ",
    "outputId": "d0f2d940-5900-4b64-c0f5-ff630a82b8b8"
   },
   "outputs": [
    {
     "name": "stdout",
     "output_type": "stream",
     "text": [
      "**Creating GoogLeNet network\n",
      "WARNING:tensorflow:From /homes/nv304/virtpy3/lib/python3.6/site-packages/tensorflow/python/ops/resource_variable_ops.py:435: colocate_with (from tensorflow.python.framework.ops) is deprecated and will be removed in a future version.\n",
      "Instructions for updating:\n",
      "Colocations handled automatically by placer.\n",
      "**Selecting Optimiser sgd  with Learning rate  0.01\n",
      "Model: \"model_1\"\n",
      "__________________________________________________________________________________________________\n",
      "Layer (type)                    Output Shape         Param #     Connected to                     \n",
      "==================================================================================================\n",
      "input_2 (InputLayer)            (None, 224, 224, 3)  0                                            \n",
      "__________________________________________________________________________________________________\n",
      "conv2d_1 (Conv2D)               (None, 112, 112, 64) 9472        input_2[0][0]                    \n",
      "__________________________________________________________________________________________________\n",
      "max_pooling2d_1 (MaxPooling2D)  (None, 56, 56, 64)   0           conv2d_1[0][0]                   \n",
      "__________________________________________________________________________________________________\n",
      "batch_normalization_1 (BatchNor (None, 56, 56, 64)   256         max_pooling2d_1[0][0]            \n",
      "__________________________________________________________________________________________________\n",
      "conv2d_2 (Conv2D)               (None, 56, 56, 64)   4160        batch_normalization_1[0][0]      \n",
      "__________________________________________________________________________________________________\n",
      "conv2d_3 (Conv2D)               (None, 56, 56, 192)  110784      conv2d_2[0][0]                   \n",
      "__________________________________________________________________________________________________\n",
      "batch_normalization_2 (BatchNor (None, 56, 56, 192)  768         conv2d_3[0][0]                   \n",
      "__________________________________________________________________________________________________\n",
      "max_pooling2d_2 (MaxPooling2D)  (None, 28, 28, 192)  0           batch_normalization_2[0][0]      \n",
      "__________________________________________________________________________________________________\n",
      "conv2d_5 (Conv2D)               (None, 28, 28, 96)   18528       max_pooling2d_2[0][0]            \n",
      "__________________________________________________________________________________________________\n",
      "conv2d_7 (Conv2D)               (None, 28, 28, 16)   3088        max_pooling2d_2[0][0]            \n",
      "__________________________________________________________________________________________________\n",
      "max_pooling2d_3 (MaxPooling2D)  (None, 28, 28, 192)  0           max_pooling2d_2[0][0]            \n",
      "__________________________________________________________________________________________________\n",
      "conv2d_4 (Conv2D)               (None, 28, 28, 64)   12352       max_pooling2d_2[0][0]            \n",
      "__________________________________________________________________________________________________\n",
      "conv2d_6 (Conv2D)               (None, 28, 28, 128)  110720      conv2d_5[0][0]                   \n",
      "__________________________________________________________________________________________________\n",
      "conv2d_8 (Conv2D)               (None, 28, 28, 32)   12832       conv2d_7[0][0]                   \n",
      "__________________________________________________________________________________________________\n",
      "conv2d_9 (Conv2D)               (None, 28, 28, 32)   6176        max_pooling2d_3[0][0]            \n",
      "__________________________________________________________________________________________________\n",
      "concatenate_1 (Concatenate)     (None, 28, 28, 256)  0           conv2d_4[0][0]                   \n",
      "                                                                 conv2d_6[0][0]                   \n",
      "                                                                 conv2d_8[0][0]                   \n",
      "                                                                 conv2d_9[0][0]                   \n",
      "__________________________________________________________________________________________________\n",
      "conv2d_11 (Conv2D)              (None, 28, 28, 128)  32896       concatenate_1[0][0]              \n",
      "__________________________________________________________________________________________________\n",
      "conv2d_13 (Conv2D)              (None, 28, 28, 32)   8224        concatenate_1[0][0]              \n",
      "__________________________________________________________________________________________________\n",
      "max_pooling2d_4 (MaxPooling2D)  (None, 28, 28, 256)  0           concatenate_1[0][0]              \n",
      "__________________________________________________________________________________________________\n",
      "conv2d_10 (Conv2D)              (None, 28, 28, 128)  32896       concatenate_1[0][0]              \n",
      "__________________________________________________________________________________________________\n",
      "conv2d_12 (Conv2D)              (None, 28, 28, 192)  221376      conv2d_11[0][0]                  \n",
      "__________________________________________________________________________________________________\n",
      "conv2d_14 (Conv2D)              (None, 28, 28, 96)   76896       conv2d_13[0][0]                  \n",
      "__________________________________________________________________________________________________\n",
      "conv2d_15 (Conv2D)              (None, 28, 28, 64)   16448       max_pooling2d_4[0][0]            \n",
      "__________________________________________________________________________________________________\n",
      "concatenate_2 (Concatenate)     (None, 28, 28, 480)  0           conv2d_10[0][0]                  \n",
      "                                                                 conv2d_12[0][0]                  \n",
      "                                                                 conv2d_14[0][0]                  \n",
      "                                                                 conv2d_15[0][0]                  \n",
      "__________________________________________________________________________________________________\n",
      "max_pooling2d_5 (MaxPooling2D)  (None, 14, 14, 480)  0           concatenate_2[0][0]              \n",
      "__________________________________________________________________________________________________\n",
      "conv2d_17 (Conv2D)              (None, 14, 14, 96)   46176       max_pooling2d_5[0][0]            \n",
      "__________________________________________________________________________________________________\n",
      "conv2d_19 (Conv2D)              (None, 14, 14, 16)   7696        max_pooling2d_5[0][0]            \n",
      "__________________________________________________________________________________________________\n",
      "max_pooling2d_6 (MaxPooling2D)  (None, 14, 14, 480)  0           max_pooling2d_5[0][0]            \n",
      "__________________________________________________________________________________________________\n",
      "conv2d_16 (Conv2D)              (None, 14, 14, 192)  92352       max_pooling2d_5[0][0]            \n",
      "__________________________________________________________________________________________________\n",
      "conv2d_18 (Conv2D)              (None, 14, 14, 208)  179920      conv2d_17[0][0]                  \n",
      "__________________________________________________________________________________________________\n",
      "conv2d_20 (Conv2D)              (None, 14, 14, 48)   19248       conv2d_19[0][0]                  \n",
      "__________________________________________________________________________________________________\n",
      "conv2d_21 (Conv2D)              (None, 14, 14, 64)   30784       max_pooling2d_6[0][0]            \n",
      "__________________________________________________________________________________________________\n",
      "concatenate_3 (Concatenate)     (None, 14, 14, 512)  0           conv2d_16[0][0]                  \n",
      "                                                                 conv2d_18[0][0]                  \n",
      "                                                                 conv2d_20[0][0]                  \n",
      "                                                                 conv2d_21[0][0]                  \n",
      "__________________________________________________________________________________________________\n",
      "conv2d_24 (Conv2D)              (None, 14, 14, 112)  57456       concatenate_3[0][0]              \n",
      "__________________________________________________________________________________________________\n",
      "conv2d_26 (Conv2D)              (None, 14, 14, 24)   12312       concatenate_3[0][0]              \n",
      "__________________________________________________________________________________________________\n",
      "max_pooling2d_7 (MaxPooling2D)  (None, 14, 14, 512)  0           concatenate_3[0][0]              \n",
      "__________________________________________________________________________________________________\n",
      "conv2d_23 (Conv2D)              (None, 14, 14, 160)  82080       concatenate_3[0][0]              \n",
      "__________________________________________________________________________________________________\n",
      "conv2d_25 (Conv2D)              (None, 14, 14, 224)  226016      conv2d_24[0][0]                  \n",
      "__________________________________________________________________________________________________\n",
      "conv2d_27 (Conv2D)              (None, 14, 14, 64)   38464       conv2d_26[0][0]                  \n",
      "__________________________________________________________________________________________________\n",
      "conv2d_28 (Conv2D)              (None, 14, 14, 64)   32832       max_pooling2d_7[0][0]            \n",
      "__________________________________________________________________________________________________\n",
      "concatenate_4 (Concatenate)     (None, 14, 14, 512)  0           conv2d_23[0][0]                  \n",
      "                                                                 conv2d_25[0][0]                  \n",
      "                                                                 conv2d_27[0][0]                  \n",
      "                                                                 conv2d_28[0][0]                  \n",
      "__________________________________________________________________________________________________\n",
      "conv2d_30 (Conv2D)              (None, 14, 14, 128)  65664       concatenate_4[0][0]              \n",
      "__________________________________________________________________________________________________\n",
      "conv2d_32 (Conv2D)              (None, 14, 14, 24)   12312       concatenate_4[0][0]              \n",
      "__________________________________________________________________________________________________\n",
      "max_pooling2d_8 (MaxPooling2D)  (None, 14, 14, 512)  0           concatenate_4[0][0]              \n",
      "__________________________________________________________________________________________________\n",
      "conv2d_29 (Conv2D)              (None, 14, 14, 128)  65664       concatenate_4[0][0]              \n",
      "__________________________________________________________________________________________________\n",
      "conv2d_31 (Conv2D)              (None, 14, 14, 256)  295168      conv2d_30[0][0]                  \n",
      "__________________________________________________________________________________________________\n",
      "conv2d_33 (Conv2D)              (None, 14, 14, 64)   38464       conv2d_32[0][0]                  \n",
      "__________________________________________________________________________________________________\n",
      "conv2d_34 (Conv2D)              (None, 14, 14, 64)   32832       max_pooling2d_8[0][0]            \n",
      "__________________________________________________________________________________________________\n",
      "concatenate_5 (Concatenate)     (None, 14, 14, 512)  0           conv2d_29[0][0]                  \n",
      "                                                                 conv2d_31[0][0]                  \n",
      "                                                                 conv2d_33[0][0]                  \n",
      "                                                                 conv2d_34[0][0]                  \n",
      "__________________________________________________________________________________________________\n",
      "conv2d_36 (Conv2D)              (None, 14, 14, 144)  73872       concatenate_5[0][0]              \n",
      "__________________________________________________________________________________________________\n",
      "conv2d_38 (Conv2D)              (None, 14, 14, 32)   16416       concatenate_5[0][0]              \n",
      "__________________________________________________________________________________________________\n",
      "max_pooling2d_9 (MaxPooling2D)  (None, 14, 14, 512)  0           concatenate_5[0][0]              \n",
      "__________________________________________________________________________________________________\n",
      "conv2d_35 (Conv2D)              (None, 14, 14, 112)  57456       concatenate_5[0][0]              \n",
      "__________________________________________________________________________________________________\n",
      "conv2d_37 (Conv2D)              (None, 14, 14, 288)  373536      conv2d_36[0][0]                  \n",
      "__________________________________________________________________________________________________\n",
      "conv2d_39 (Conv2D)              (None, 14, 14, 64)   51264       conv2d_38[0][0]                  \n",
      "__________________________________________________________________________________________________\n",
      "conv2d_40 (Conv2D)              (None, 14, 14, 64)   32832       max_pooling2d_9[0][0]            \n",
      "__________________________________________________________________________________________________\n",
      "concatenate_6 (Concatenate)     (None, 14, 14, 528)  0           conv2d_35[0][0]                  \n",
      "                                                                 conv2d_37[0][0]                  \n",
      "                                                                 conv2d_39[0][0]                  \n",
      "                                                                 conv2d_40[0][0]                  \n",
      "__________________________________________________________________________________________________\n",
      "conv2d_43 (Conv2D)              (None, 14, 14, 160)  84640       concatenate_6[0][0]              \n",
      "__________________________________________________________________________________________________\n",
      "conv2d_45 (Conv2D)              (None, 14, 14, 32)   16928       concatenate_6[0][0]              \n",
      "__________________________________________________________________________________________________\n",
      "max_pooling2d_10 (MaxPooling2D) (None, 14, 14, 528)  0           concatenate_6[0][0]              \n",
      "__________________________________________________________________________________________________\n",
      "conv2d_42 (Conv2D)              (None, 14, 14, 256)  135424      concatenate_6[0][0]              \n",
      "__________________________________________________________________________________________________\n",
      "conv2d_44 (Conv2D)              (None, 14, 14, 320)  461120      conv2d_43[0][0]                  \n",
      "__________________________________________________________________________________________________\n",
      "conv2d_46 (Conv2D)              (None, 14, 14, 128)  102528      conv2d_45[0][0]                  \n",
      "__________________________________________________________________________________________________\n",
      "conv2d_47 (Conv2D)              (None, 14, 14, 128)  67712       max_pooling2d_10[0][0]           \n",
      "__________________________________________________________________________________________________\n",
      "concatenate_7 (Concatenate)     (None, 14, 14, 832)  0           conv2d_42[0][0]                  \n",
      "                                                                 conv2d_44[0][0]                  \n",
      "                                                                 conv2d_46[0][0]                  \n",
      "                                                                 conv2d_47[0][0]                  \n",
      "__________________________________________________________________________________________________\n",
      "max_pooling2d_11 (MaxPooling2D) (None, 7, 7, 832)    0           concatenate_7[0][0]              \n",
      "__________________________________________________________________________________________________\n",
      "conv2d_49 (Conv2D)              (None, 7, 7, 160)    133280      max_pooling2d_11[0][0]           \n",
      "__________________________________________________________________________________________________\n",
      "conv2d_51 (Conv2D)              (None, 7, 7, 32)     26656       max_pooling2d_11[0][0]           \n",
      "__________________________________________________________________________________________________\n",
      "max_pooling2d_12 (MaxPooling2D) (None, 7, 7, 832)    0           max_pooling2d_11[0][0]           \n",
      "__________________________________________________________________________________________________\n",
      "conv2d_48 (Conv2D)              (None, 7, 7, 256)    213248      max_pooling2d_11[0][0]           \n",
      "__________________________________________________________________________________________________\n",
      "conv2d_50 (Conv2D)              (None, 7, 7, 320)    461120      conv2d_49[0][0]                  \n",
      "__________________________________________________________________________________________________\n",
      "conv2d_52 (Conv2D)              (None, 7, 7, 128)    102528      conv2d_51[0][0]                  \n",
      "__________________________________________________________________________________________________\n",
      "conv2d_53 (Conv2D)              (None, 7, 7, 128)    106624      max_pooling2d_12[0][0]           \n",
      "__________________________________________________________________________________________________\n",
      "concatenate_8 (Concatenate)     (None, 7, 7, 832)    0           conv2d_48[0][0]                  \n",
      "                                                                 conv2d_50[0][0]                  \n",
      "                                                                 conv2d_52[0][0]                  \n",
      "                                                                 conv2d_53[0][0]                  \n",
      "__________________________________________________________________________________________________\n",
      "conv2d_55 (Conv2D)              (None, 7, 7, 192)    159936      concatenate_8[0][0]              \n",
      "__________________________________________________________________________________________________\n",
      "conv2d_57 (Conv2D)              (None, 7, 7, 48)     39984       concatenate_8[0][0]              \n",
      "__________________________________________________________________________________________________\n",
      "max_pooling2d_13 (MaxPooling2D) (None, 7, 7, 832)    0           concatenate_8[0][0]              \n",
      "__________________________________________________________________________________________________\n",
      "conv2d_54 (Conv2D)              (None, 7, 7, 384)    319872      concatenate_8[0][0]              \n",
      "__________________________________________________________________________________________________\n",
      "conv2d_56 (Conv2D)              (None, 7, 7, 384)    663936      conv2d_55[0][0]                  \n",
      "__________________________________________________________________________________________________\n",
      "conv2d_58 (Conv2D)              (None, 7, 7, 128)    153728      conv2d_57[0][0]                  \n",
      "__________________________________________________________________________________________________\n",
      "conv2d_59 (Conv2D)              (None, 7, 7, 128)    106624      max_pooling2d_13[0][0]           \n",
      "__________________________________________________________________________________________________\n",
      "concatenate_9 (Concatenate)     (None, 7, 7, 1024)   0           conv2d_54[0][0]                  \n",
      "                                                                 conv2d_56[0][0]                  \n",
      "                                                                 conv2d_58[0][0]                  \n",
      "                                                                 conv2d_59[0][0]                  \n",
      "__________________________________________________________________________________________________\n",
      "average_pooling2d_1 (AveragePoo (None, 4, 4, 512)    0           concatenate_3[0][0]              \n",
      "__________________________________________________________________________________________________\n",
      "average_pooling2d_2 (AveragePoo (None, 4, 4, 528)    0           concatenate_6[0][0]              \n",
      "__________________________________________________________________________________________________\n",
      "average_pooling2d_3 (AveragePoo (None, 1, 1, 1024)   0           concatenate_9[0][0]              \n",
      "__________________________________________________________________________________________________\n",
      "conv2d_22 (Conv2D)              (None, 4, 4, 128)    65664       average_pooling2d_1[0][0]        \n",
      "__________________________________________________________________________________________________\n",
      "conv2d_41 (Conv2D)              (None, 4, 4, 128)    67712       average_pooling2d_2[0][0]        \n",
      "__________________________________________________________________________________________________\n",
      "flatten_3 (Flatten)             (None, 1024)         0           average_pooling2d_3[0][0]        \n",
      "__________________________________________________________________________________________________\n",
      "flatten_1 (Flatten)             (None, 2048)         0           conv2d_22[0][0]                  \n",
      "__________________________________________________________________________________________________\n",
      "flatten_2 (Flatten)             (None, 2048)         0           conv2d_41[0][0]                  \n",
      "__________________________________________________________________________________________________\n",
      "dropout_3 (Dropout)             (None, 1024)         0           flatten_3[0][0]                  \n",
      "__________________________________________________________________________________________________\n",
      "dense_1 (Dense)                 (None, 256)          524544      flatten_1[0][0]                  \n",
      "__________________________________________________________________________________________________\n",
      "dense_2 (Dense)                 (None, 256)          524544      flatten_2[0][0]                  \n",
      "__________________________________________________________________________________________________\n",
      "dense_3 (Dense)                 (None, 256)          262400      dropout_3[0][0]                  \n",
      "__________________________________________________________________________________________________\n",
      "dropout_1 (Dropout)             (None, 256)          0           dense_1[0][0]                    \n",
      "__________________________________________________________________________________________________\n",
      "dropout_2 (Dropout)             (None, 256)          0           dense_2[0][0]                    \n",
      "__________________________________________________________________________________________________\n",
      "main (Dense)                    (None, 10)           2570        dense_3[0][0]                    \n",
      "__________________________________________________________________________________________________\n",
      "aux1 (Dense)                    (None, 10)           2570        dropout_1[0][0]                  \n",
      "__________________________________________________________________________________________________\n",
      "aux2 (Dense)                    (None, 10)           2570        dropout_2[0][0]                  \n",
      "==================================================================================================\n",
      "Total params: 7,427,150\n",
      "Trainable params: 7,426,638\n",
      "Non-trainable params: 512\n",
      "__________________________________________________________________________________________________\n",
      "None\n",
      "**Starting Training..\n",
      "WARNING:tensorflow:From /homes/nv304/virtpy3/lib/python3.6/site-packages/tensorflow/python/ops/math_ops.py:3066: to_int32 (from tensorflow.python.ops.math_ops) is deprecated and will be removed in a future version.\n",
      "Instructions for updating:\n",
      "Use tf.cast instead.\n",
      "Train on 40200 samples, validate on 19800 samples\n",
      "Epoch 1/1\n",
      "40200/40200 [==============================] - 169s 4ms/step - loss: 3.3740 - main_loss: 1.2312 - aux1_loss: 0.9585 - aux2_loss: 1.1774 - main_accuracy: 0.5545 - aux1_accuracy: 0.6746 - aux2_accuracy: 0.5843 - val_loss: 6.3855 - val_main_loss: 2.4066 - val_aux1_loss: 1.3944 - val_aux2_loss: 2.5862 - val_main_accuracy: 0.4580 - val_aux1_accuracy: 0.6060 - val_aux2_accuracy: 0.3759\n",
      "**Total Execution time 173.65884375572205\n"
     ]
    }
   ],
   "source": [
    "input_shape = x_train.shape[1:]\n",
    "print(\"**Creating GoogLeNet network\")\n",
    "inputs = layers.Input(shape=input_shape)\n",
    "model = get_model(input_shape,classes,d_rate,act)\n",
    "print(\"**Selecting Optimiser\", opt,\" with Learning rate \",learning_rate)\n",
    "opt_type = get_optimiser(opt,learning_rate)\n",
    "\n",
    "model.compile(loss=keras.losses.categorical_crossentropy,optimizer=opt_type,metrics=['accuracy'])\n",
    "plot_model(model, to_file='model/inception.png')\n",
    "\n",
    "print(model.summary())\n",
    "\n",
    "print(\"**Starting Training..\")\n",
    "start = time.time()\n",
    "history = model.fit(x_train, [y_train,y_train,y_train],\n",
    "                    batch_size=batch_size,\n",
    "                    epochs=epochs,\n",
    "                    verbose=1,\n",
    "                    validation_data=(x_val, [y_val,y_val,y_val]))\n",
    "end = time.time()\n",
    "total_exec_time = end - start\n",
    "print(\"**Total Execution time\", total_exec_time)"
   ]
  },
  {
   "cell_type": "code",
   "execution_count": 12,
   "metadata": {
    "colab": {},
    "colab_type": "code",
    "id": "VjPCb0jR05jY"
   },
   "outputs": [
    {
     "name": "stdout",
     "output_type": "stream",
     "text": [
      "Saving Network and weights\n"
     ]
    }
   ],
   "source": [
    "print(\"Saving Network and weights\")\n",
    "weight_path = 'model/inception_wt.h5'\n",
    "model.save_weights(weight_path)"
   ]
  },
  {
   "cell_type": "code",
   "execution_count": 14,
   "metadata": {
    "colab": {},
    "colab_type": "code",
    "id": "ZvK1pZMr05jg"
   },
   "outputs": [
    {
     "name": "stdout",
     "output_type": "stream",
     "text": [
      "Evaluating network performance on Test Data\n",
      "10000/10000 [==============================] - 16s 2ms/step\n",
      "Test loss: 6.125518496704101\n",
      "Test accuracy: 2.3052423000335693\n"
     ]
    }
   ],
   "source": [
    "print(\"Evaluating network performance on Test Data\")\n",
    "score = model.evaluate(x_test, [y_test,y_test,y_test], verbose=1,batch_size=batch_size)\n",
    "print('Test loss:', score[0])\n",
    "print('Test accuracy:', score[1])"
   ]
  },
  {
   "cell_type": "code",
   "execution_count": 17,
   "metadata": {},
   "outputs": [
    {
     "data": {
      "text/plain": [
       "{'val_loss': [6.385513384655268],\n",
       " 'val_main_loss': [2.4066152572631836],\n",
       " 'val_aux1_loss': [1.3943676948547363],\n",
       " 'val_aux2_loss': [2.586168050765991],\n",
       " 'val_main_accuracy': [0.4580303132534027],\n",
       " 'val_aux1_accuracy': [0.6059595942497253],\n",
       " 'val_aux2_accuracy': [0.3758585751056671],\n",
       " 'loss': [3.373990041865638],\n",
       " 'main_loss': [1.2311724],\n",
       " 'aux1_loss': [0.9584502],\n",
       " 'aux2_loss': [1.177446],\n",
       " 'main_accuracy': [0.55452734],\n",
       " 'aux1_accuracy': [0.674602],\n",
       " 'aux2_accuracy': [0.5842786]}"
      ]
     },
     "execution_count": 17,
     "metadata": {},
     "output_type": "execute_result"
    }
   ],
   "source": [
    "history.history"
   ]
  },
  {
   "cell_type": "code",
   "execution_count": 16,
   "metadata": {
    "colab": {},
    "colab_type": "code",
    "id": "0DwtPYdo05jl"
   },
   "outputs": [
    {
     "data": {
      "image/png": "[encoded data removed]",
      "text/plain": [
       "<Figure size 432x288 with 1 Axes>"
      ]
     },
     "metadata": {
      "needs_background": "light"
     },
     "output_type": "display_data"
    },
    {
     "data": {
      "image/png": "[encoded data removed]",
      "text/plain": [
       "<Figure size 432x288 with 1 Axes>"
      ]
     },
     "metadata": {
      "needs_background": "light"
     },
     "output_type": "display_data"
    },
    {
     "data": {
      "image/png": "[encoded data removed]",
      "text/plain": [
       "<Figure size 432x288 with 1 Axes>"
      ]
     },
     "metadata": {
      "needs_background": "light"
     },
     "output_type": "display_data"
    }
   ],
   "source": [
    "plt.plot(history.history['main_accuracy'])\n",
    "plt.plot(history.history['val_main_accuracy'])\n",
    "plt.plot(history.history['aux1_accuracy'])\n",
    "plt.plot(history.history['val_aux1_accuracy'])\n",
    "plt.plot(history.history['aux2_accuracy'])\n",
    "plt.plot(history.history['val_aux2_accuracy'])\n",
    "plt.title('model accuracy')\n",
    "plt.ylabel('accuracy')\n",
    "plt.xlabel('epoch')\n",
    "plt.legend(['main_accuracy', 'val_main_accuracy','aux1_accuracy','val_aux1_accuracy','aux2_accuracy','val_aux2_accuracy'], loc='upper left')\n",
    "plt.show()\n",
    "# loss\n",
    "plt.plot(history.history['loss'])\n",
    "plt.plot(history.history['val_loss'])\n",
    "plt.title('model loss')\n",
    "plt.ylabel('loss')\n",
    "plt.xlabel('epoch')\n",
    "plt.legend(['train', 'val'], loc='upper left')\n",
    "plt.show()\n",
    "# summarize history for loss\n",
    "plt.plot(history.history['main_loss'])\n",
    "plt.plot(history.history['val_main_loss'])\n",
    "plt.plot(history.history['aux1_loss'])\n",
    "plt.plot(history.history['val_aux1_loss'])\n",
    "plt.plot(history.history['aux2_loss'])\n",
    "plt.plot(history.history['val_aux2_loss'])\n",
    "plt.title('model loss')\n",
    "plt.ylabel('loss')\n",
    "plt.xlabel('epoch')\n",
    "plt.legend(['main_loss', 'val_main_loss','aux1_loss','val_aux1_loss','aux2_loss','val_aux2_loss'], loc='upper left')\n",
    "plt.show()"
   ]
  },
  {
   "cell_type": "code",
   "execution_count": 18,
   "metadata": {
    "colab": {},
    "colab_type": "code",
    "id": "bdb3AOJw05js"
   },
   "outputs": [],
   "source": [
    "predictions = model.predict(x_test, verbose=0)"
   ]
  },
  {
   "cell_type": "code",
   "execution_count": 20,
   "metadata": {
    "colab": {},
    "colab_type": "code",
    "id": "StpUmU2c05jy"
   },
   "outputs": [
    {
     "data": {
      "text/plain": [
       "<matplotlib.axes._subplots.AxesSubplot at 0x7fb1cf8596a0>"
      ]
     },
     "execution_count": 20,
     "metadata": {},
     "output_type": "execute_result"
    },
    {
     "data": {
      "image/png": "[encoded data removed]",
      "text/plain": [
       "<Figure size 504x504 with 2 Axes>"
      ]
     },
     "metadata": {
      "needs_background": "light"
     },
     "output_type": "display_data"
    }
   ],
   "source": [
    "# from sklearn.metrics import classification_report, confusion_matrix\n",
    "# confusion_matrix(np.argmax(data.y_test,axis=1),np.argmax(predictions,axis=1))\n",
    "import scikitplot as skplt\n",
    "skplt.metrics.plot_confusion_matrix(np.argmax(y_test,axis=1),np.argmax(predictions[0],axis=1), normalize=True,figsize = (7,7))"
   ]
  },
  {
   "cell_type": "code",
   "execution_count": 24,
   "metadata": {
    "colab": {},
    "colab_type": "code",
    "id": "0hTOI_II05j3"
   },
   "outputs": [
    {
     "name": "stdout",
     "output_type": "stream",
     "text": [
      "True:          [2 1 4 1 4]\n",
      "classified as: [2 1 4 1 4]\n",
      "Error Cases\n",
      "True:          [0 7 3 6 5]\n",
      "classified as: [8 9 8 4 4]\n"
     ]
    }
   ],
   "source": [
    "def test_accuracy():\n",
    "    err = []\n",
    "    tru = []\n",
    "    for i in range(len(predictions[0])):\n",
    "        if np.argmax(predictions[0][i]) == np.argmax(y_test[i]):\n",
    "            tru.append(i)\n",
    "        else:\n",
    "            err.append(i)\n",
    "    return tru, err\n",
    "\n",
    "p = test_accuracy()\n",
    "\n",
    "# plt.subplot(330 + 1 + i)\n",
    "# plt.imshow(x_train[i], cmap=\"gray\")\n",
    "print(\"True:          {}\".format(np.argmax(y_test[p[0][0:5]], axis =1)))\n",
    "print(\"classified as: {}\".format(np.argmax(predictions[0][p[0][0:5]], axis=1)))\n",
    "print(\"Error Cases\")\n",
    "print(\"True:          {}\".format(np.argmax(y_test[p[1][6:11]], axis =1)))\n",
    "print(\"classified as: {}\".format(np.argmax(predictions[0][p[1][6:11]], axis=1)))"
   ]
  },
  {
   "cell_type": "code",
   "execution_count": null,
   "metadata": {
    "colab": {},
    "colab_type": "code",
    "id": "IIADXVhG05j9"
   },
   "outputs": [],
   "source": [
    "K.clear_session()"
   ]
  },
  {
   "cell_type": "markdown",
   "metadata": {
    "colab_type": "text",
    "id": "rRtwQ18S6FzV"
   },
   "source": [
    "## CIFAR10"
   ]
  },
  {
   "cell_type": "code",
   "execution_count": 14,
   "metadata": {
    "colab": {},
    "colab_type": "code",
    "id": "YU0_nxJn6FzZ"
   },
   "outputs": [
    {
     "name": "stdout",
     "output_type": "stream",
     "text": [
      "**Selecting Dataset cifar10\n",
      "**Coverting  cifar10  to 3 channel dims  (224, 224)\n",
      "**Dataset Dimensions:\n",
      "**Training Dataset Dims:  (33500, 224, 224, 3) (33500, 10)\n",
      "**Validation Dataset Dims:  (16500, 224, 224, 3) (16500, 10)\n",
      "**Test Dataset Dims:  (10000, 224, 224, 3) (10000, 10)\n"
     ]
    }
   ],
   "source": [
    "learning_rate = 0.01\n",
    "d_rate = 0.2\n",
    "act = 'softmax'\n",
    "opt = 'sgd'\n",
    "classes = 10\n",
    "dataset = \"cifar10\"\n",
    "input_dims = (224,224)\n",
    "print(\"**Selecting Dataset\", dataset)\n",
    "print(\"**Coverting \",dataset,\" to 3 channel dims \",str(input_dims))\n",
    "x_train, x_test, x_val, y_train, y_test, y_val = get_dataset(dataset,final_shape=input_dims)\n",
    "print(\"**Dataset Dimensions:\")\n",
    "print(\"**Training Dataset Dims: \",x_train.shape,y_train.shape)\n",
    "print(\"**Validation Dataset Dims: \",x_val.shape,y_val.shape)\n",
    "print(\"**Test Dataset Dims: \",x_test.shape,y_test.shape)\n"
   ]
  },
  {
   "cell_type": "code",
   "execution_count": 15,
   "metadata": {
    "colab": {},
    "colab_type": "code",
    "id": "WTrvXlnF6Fzp"
   },
   "outputs": [
    {
     "name": "stdout",
     "output_type": "stream",
     "text": [
      "**Creating GoogLeNet network\n",
      "**Selecting Optimiser sgd  with Learning rate  0.01\n",
      "Model: \"model_1\"\n",
      "__________________________________________________________________________________________________\n",
      "Layer (type)                    Output Shape         Param #     Connected to                     \n",
      "==================================================================================================\n",
      "input_6 (InputLayer)            (None, 224, 224, 3)  0                                            \n",
      "__________________________________________________________________________________________________\n",
      "conv2d_43 (Conv2D)              (None, 112, 112, 64) 9472        input_6[0][0]                    \n",
      "__________________________________________________________________________________________________\n",
      "max_pooling2d_13 (MaxPooling2D) (None, 56, 56, 64)   0           conv2d_43[0][0]                  \n",
      "__________________________________________________________________________________________________\n",
      "batch_normalization_5 (BatchNor (None, 56, 56, 64)   256         max_pooling2d_13[0][0]           \n",
      "__________________________________________________________________________________________________\n",
      "conv2d_44 (Conv2D)              (None, 56, 56, 64)   4160        batch_normalization_5[0][0]      \n",
      "__________________________________________________________________________________________________\n",
      "conv2d_45 (Conv2D)              (None, 56, 56, 192)  110784      conv2d_44[0][0]                  \n",
      "__________________________________________________________________________________________________\n",
      "batch_normalization_6 (BatchNor (None, 56, 56, 192)  768         conv2d_45[0][0]                  \n",
      "__________________________________________________________________________________________________\n",
      "max_pooling2d_14 (MaxPooling2D) (None, 28, 28, 192)  0           batch_normalization_6[0][0]      \n",
      "__________________________________________________________________________________________________\n",
      "conv2d_47 (Conv2D)              (None, 28, 28, 96)   18528       max_pooling2d_14[0][0]           \n",
      "__________________________________________________________________________________________________\n",
      "conv2d_49 (Conv2D)              (None, 28, 28, 16)   3088        max_pooling2d_14[0][0]           \n",
      "__________________________________________________________________________________________________\n",
      "max_pooling2d_15 (MaxPooling2D) (None, 28, 28, 192)  0           max_pooling2d_14[0][0]           \n",
      "__________________________________________________________________________________________________\n",
      "conv2d_46 (Conv2D)              (None, 28, 28, 64)   12352       max_pooling2d_14[0][0]           \n",
      "__________________________________________________________________________________________________\n",
      "conv2d_48 (Conv2D)              (None, 28, 28, 128)  110720      conv2d_47[0][0]                  \n",
      "__________________________________________________________________________________________________\n",
      "conv2d_50 (Conv2D)              (None, 28, 28, 32)   12832       conv2d_49[0][0]                  \n",
      "__________________________________________________________________________________________________\n",
      "conv2d_51 (Conv2D)              (None, 28, 28, 32)   6176        max_pooling2d_15[0][0]           \n",
      "__________________________________________________________________________________________________\n",
      "concatenate_7 (Concatenate)     (None, 28, 28, 256)  0           conv2d_46[0][0]                  \n",
      "                                                                 conv2d_48[0][0]                  \n",
      "                                                                 conv2d_50[0][0]                  \n",
      "                                                                 conv2d_51[0][0]                  \n",
      "__________________________________________________________________________________________________\n",
      "conv2d_53 (Conv2D)              (None, 28, 28, 128)  32896       concatenate_7[0][0]              \n",
      "__________________________________________________________________________________________________\n",
      "conv2d_55 (Conv2D)              (None, 28, 28, 32)   8224        concatenate_7[0][0]              \n",
      "__________________________________________________________________________________________________\n",
      "max_pooling2d_16 (MaxPooling2D) (None, 28, 28, 256)  0           concatenate_7[0][0]              \n",
      "__________________________________________________________________________________________________\n",
      "conv2d_52 (Conv2D)              (None, 28, 28, 128)  32896       concatenate_7[0][0]              \n",
      "__________________________________________________________________________________________________\n",
      "conv2d_54 (Conv2D)              (None, 28, 28, 192)  221376      conv2d_53[0][0]                  \n",
      "__________________________________________________________________________________________________\n",
      "conv2d_56 (Conv2D)              (None, 28, 28, 96)   76896       conv2d_55[0][0]                  \n",
      "__________________________________________________________________________________________________\n",
      "conv2d_57 (Conv2D)              (None, 28, 28, 64)   16448       max_pooling2d_16[0][0]           \n",
      "__________________________________________________________________________________________________\n",
      "concatenate_8 (Concatenate)     (None, 28, 28, 480)  0           conv2d_52[0][0]                  \n",
      "                                                                 conv2d_54[0][0]                  \n",
      "                                                                 conv2d_56[0][0]                  \n",
      "                                                                 conv2d_57[0][0]                  \n",
      "__________________________________________________________________________________________________\n",
      "max_pooling2d_17 (MaxPooling2D) (None, 14, 14, 480)  0           concatenate_8[0][0]              \n",
      "__________________________________________________________________________________________________\n",
      "conv2d_59 (Conv2D)              (None, 14, 14, 96)   46176       max_pooling2d_17[0][0]           \n",
      "__________________________________________________________________________________________________\n",
      "conv2d_61 (Conv2D)              (None, 14, 14, 16)   7696        max_pooling2d_17[0][0]           \n",
      "__________________________________________________________________________________________________\n",
      "max_pooling2d_18 (MaxPooling2D) (None, 14, 14, 480)  0           max_pooling2d_17[0][0]           \n",
      "__________________________________________________________________________________________________\n",
      "conv2d_58 (Conv2D)              (None, 14, 14, 192)  92352       max_pooling2d_17[0][0]           \n",
      "__________________________________________________________________________________________________\n",
      "conv2d_60 (Conv2D)              (None, 14, 14, 208)  179920      conv2d_59[0][0]                  \n",
      "__________________________________________________________________________________________________\n",
      "conv2d_62 (Conv2D)              (None, 14, 14, 48)   19248       conv2d_61[0][0]                  \n",
      "__________________________________________________________________________________________________\n",
      "conv2d_63 (Conv2D)              (None, 14, 14, 64)   30784       max_pooling2d_18[0][0]           \n",
      "__________________________________________________________________________________________________\n",
      "concatenate_9 (Concatenate)     (None, 14, 14, 512)  0           conv2d_58[0][0]                  \n",
      "                                                                 conv2d_60[0][0]                  \n",
      "                                                                 conv2d_62[0][0]                  \n",
      "                                                                 conv2d_63[0][0]                  \n",
      "__________________________________________________________________________________________________\n",
      "conv2d_66 (Conv2D)              (None, 14, 14, 112)  57456       concatenate_9[0][0]              \n",
      "__________________________________________________________________________________________________\n",
      "conv2d_68 (Conv2D)              (None, 14, 14, 24)   12312       concatenate_9[0][0]              \n",
      "__________________________________________________________________________________________________\n",
      "max_pooling2d_19 (MaxPooling2D) (None, 14, 14, 512)  0           concatenate_9[0][0]              \n",
      "__________________________________________________________________________________________________\n",
      "conv2d_65 (Conv2D)              (None, 14, 14, 160)  82080       concatenate_9[0][0]              \n",
      "__________________________________________________________________________________________________\n",
      "conv2d_67 (Conv2D)              (None, 14, 14, 224)  226016      conv2d_66[0][0]                  \n",
      "__________________________________________________________________________________________________\n",
      "conv2d_69 (Conv2D)              (None, 14, 14, 64)   38464       conv2d_68[0][0]                  \n",
      "__________________________________________________________________________________________________\n",
      "conv2d_70 (Conv2D)              (None, 14, 14, 64)   32832       max_pooling2d_19[0][0]           \n",
      "__________________________________________________________________________________________________\n",
      "concatenate_10 (Concatenate)    (None, 14, 14, 512)  0           conv2d_65[0][0]                  \n",
      "                                                                 conv2d_67[0][0]                  \n",
      "                                                                 conv2d_69[0][0]                  \n",
      "                                                                 conv2d_70[0][0]                  \n",
      "__________________________________________________________________________________________________\n",
      "conv2d_72 (Conv2D)              (None, 14, 14, 128)  65664       concatenate_10[0][0]             \n",
      "__________________________________________________________________________________________________\n",
      "conv2d_74 (Conv2D)              (None, 14, 14, 24)   12312       concatenate_10[0][0]             \n",
      "__________________________________________________________________________________________________\n",
      "max_pooling2d_20 (MaxPooling2D) (None, 14, 14, 512)  0           concatenate_10[0][0]             \n",
      "__________________________________________________________________________________________________\n",
      "conv2d_71 (Conv2D)              (None, 14, 14, 128)  65664       concatenate_10[0][0]             \n",
      "__________________________________________________________________________________________________\n",
      "conv2d_73 (Conv2D)              (None, 14, 14, 256)  295168      conv2d_72[0][0]                  \n",
      "__________________________________________________________________________________________________\n",
      "conv2d_75 (Conv2D)              (None, 14, 14, 64)   38464       conv2d_74[0][0]                  \n",
      "__________________________________________________________________________________________________\n",
      "conv2d_76 (Conv2D)              (None, 14, 14, 64)   32832       max_pooling2d_20[0][0]           \n",
      "__________________________________________________________________________________________________\n",
      "concatenate_11 (Concatenate)    (None, 14, 14, 512)  0           conv2d_71[0][0]                  \n",
      "                                                                 conv2d_73[0][0]                  \n",
      "                                                                 conv2d_75[0][0]                  \n",
      "                                                                 conv2d_76[0][0]                  \n",
      "__________________________________________________________________________________________________\n",
      "conv2d_78 (Conv2D)              (None, 14, 14, 144)  73872       concatenate_11[0][0]             \n",
      "__________________________________________________________________________________________________\n",
      "conv2d_80 (Conv2D)              (None, 14, 14, 32)   16416       concatenate_11[0][0]             \n",
      "__________________________________________________________________________________________________\n",
      "max_pooling2d_21 (MaxPooling2D) (None, 14, 14, 512)  0           concatenate_11[0][0]             \n",
      "__________________________________________________________________________________________________\n",
      "conv2d_77 (Conv2D)              (None, 14, 14, 112)  57456       concatenate_11[0][0]             \n",
      "__________________________________________________________________________________________________\n",
      "conv2d_79 (Conv2D)              (None, 14, 14, 288)  373536      conv2d_78[0][0]                  \n",
      "__________________________________________________________________________________________________\n",
      "conv2d_81 (Conv2D)              (None, 14, 14, 64)   51264       conv2d_80[0][0]                  \n",
      "__________________________________________________________________________________________________\n",
      "conv2d_82 (Conv2D)              (None, 14, 14, 64)   32832       max_pooling2d_21[0][0]           \n",
      "__________________________________________________________________________________________________\n",
      "concatenate_12 (Concatenate)    (None, 14, 14, 528)  0           conv2d_77[0][0]                  \n",
      "                                                                 conv2d_79[0][0]                  \n",
      "                                                                 conv2d_81[0][0]                  \n",
      "                                                                 conv2d_82[0][0]                  \n",
      "__________________________________________________________________________________________________\n",
      "conv2d_85 (Conv2D)              (None, 14, 14, 160)  84640       concatenate_12[0][0]             \n",
      "__________________________________________________________________________________________________\n",
      "conv2d_87 (Conv2D)              (None, 14, 14, 32)   16928       concatenate_12[0][0]             \n",
      "__________________________________________________________________________________________________\n",
      "max_pooling2d_22 (MaxPooling2D) (None, 14, 14, 528)  0           concatenate_12[0][0]             \n",
      "__________________________________________________________________________________________________\n",
      "conv2d_84 (Conv2D)              (None, 14, 14, 256)  135424      concatenate_12[0][0]             \n",
      "__________________________________________________________________________________________________\n",
      "conv2d_86 (Conv2D)              (None, 14, 14, 320)  461120      conv2d_85[0][0]                  \n",
      "__________________________________________________________________________________________________\n",
      "conv2d_88 (Conv2D)              (None, 14, 14, 128)  102528      conv2d_87[0][0]                  \n",
      "__________________________________________________________________________________________________\n",
      "conv2d_89 (Conv2D)              (None, 14, 14, 128)  67712       max_pooling2d_22[0][0]           \n",
      "__________________________________________________________________________________________________\n",
      "concatenate_13 (Concatenate)    (None, 14, 14, 832)  0           conv2d_84[0][0]                  \n",
      "                                                                 conv2d_86[0][0]                  \n",
      "                                                                 conv2d_88[0][0]                  \n",
      "                                                                 conv2d_89[0][0]                  \n",
      "__________________________________________________________________________________________________\n",
      "max_pooling2d_23 (MaxPooling2D) (None, 7, 7, 832)    0           concatenate_13[0][0]             \n",
      "__________________________________________________________________________________________________\n",
      "conv2d_91 (Conv2D)              (None, 7, 7, 160)    133280      max_pooling2d_23[0][0]           \n",
      "__________________________________________________________________________________________________\n",
      "conv2d_93 (Conv2D)              (None, 7, 7, 32)     26656       max_pooling2d_23[0][0]           \n",
      "__________________________________________________________________________________________________\n",
      "max_pooling2d_24 (MaxPooling2D) (None, 7, 7, 832)    0           max_pooling2d_23[0][0]           \n",
      "__________________________________________________________________________________________________\n",
      "conv2d_90 (Conv2D)              (None, 7, 7, 256)    213248      max_pooling2d_23[0][0]           \n",
      "__________________________________________________________________________________________________\n",
      "conv2d_92 (Conv2D)              (None, 7, 7, 320)    461120      conv2d_91[0][0]                  \n",
      "__________________________________________________________________________________________________\n",
      "conv2d_94 (Conv2D)              (None, 7, 7, 128)    102528      conv2d_93[0][0]                  \n",
      "__________________________________________________________________________________________________\n",
      "conv2d_95 (Conv2D)              (None, 7, 7, 128)    106624      max_pooling2d_24[0][0]           \n",
      "__________________________________________________________________________________________________\n",
      "concatenate_14 (Concatenate)    (None, 7, 7, 832)    0           conv2d_90[0][0]                  \n",
      "                                                                 conv2d_92[0][0]                  \n",
      "                                                                 conv2d_94[0][0]                  \n",
      "                                                                 conv2d_95[0][0]                  \n",
      "__________________________________________________________________________________________________\n",
      "conv2d_97 (Conv2D)              (None, 7, 7, 192)    159936      concatenate_14[0][0]             \n",
      "__________________________________________________________________________________________________\n",
      "conv2d_99 (Conv2D)              (None, 7, 7, 48)     39984       concatenate_14[0][0]             \n",
      "__________________________________________________________________________________________________\n",
      "max_pooling2d_25 (MaxPooling2D) (None, 7, 7, 832)    0           concatenate_14[0][0]             \n",
      "__________________________________________________________________________________________________\n",
      "conv2d_96 (Conv2D)              (None, 7, 7, 384)    319872      concatenate_14[0][0]             \n",
      "__________________________________________________________________________________________________\n",
      "conv2d_98 (Conv2D)              (None, 7, 7, 384)    663936      conv2d_97[0][0]                  \n",
      "__________________________________________________________________________________________________\n",
      "conv2d_100 (Conv2D)             (None, 7, 7, 128)    153728      conv2d_99[0][0]                  \n",
      "__________________________________________________________________________________________________\n",
      "conv2d_101 (Conv2D)             (None, 7, 7, 128)    106624      max_pooling2d_25[0][0]           \n",
      "__________________________________________________________________________________________________\n",
      "concatenate_15 (Concatenate)    (None, 7, 7, 1024)   0           conv2d_96[0][0]                  \n",
      "                                                                 conv2d_98[0][0]                  \n",
      "                                                                 conv2d_100[0][0]                 \n",
      "                                                                 conv2d_101[0][0]                 \n",
      "__________________________________________________________________________________________________\n",
      "average_pooling2d_3 (AveragePoo (None, 4, 4, 512)    0           concatenate_9[0][0]              \n",
      "__________________________________________________________________________________________________\n",
      "average_pooling2d_4 (AveragePoo (None, 4, 4, 528)    0           concatenate_12[0][0]             \n",
      "__________________________________________________________________________________________________\n",
      "average_pooling2d_5 (AveragePoo (None, 1, 1, 1024)   0           concatenate_15[0][0]             \n",
      "__________________________________________________________________________________________________\n",
      "conv2d_64 (Conv2D)              (None, 4, 4, 128)    65664       average_pooling2d_3[0][0]        \n",
      "__________________________________________________________________________________________________\n",
      "conv2d_83 (Conv2D)              (None, 4, 4, 128)    67712       average_pooling2d_4[0][0]        \n",
      "__________________________________________________________________________________________________\n",
      "flatten_3 (Flatten)             (None, 1024)         0           average_pooling2d_5[0][0]        \n",
      "__________________________________________________________________________________________________\n",
      "flatten_1 (Flatten)             (None, 2048)         0           conv2d_64[0][0]                  \n",
      "__________________________________________________________________________________________________\n",
      "flatten_2 (Flatten)             (None, 2048)         0           conv2d_83[0][0]                  \n",
      "__________________________________________________________________________________________________\n",
      "dropout_3 (Dropout)             (None, 1024)         0           flatten_3[0][0]                  \n",
      "__________________________________________________________________________________________________\n",
      "dense_1 (Dense)                 (None, 256)          524544      flatten_1[0][0]                  \n",
      "__________________________________________________________________________________________________\n",
      "dense_2 (Dense)                 (None, 256)          524544      flatten_2[0][0]                  \n",
      "__________________________________________________________________________________________________\n",
      "dense_3 (Dense)                 (None, 256)          262400      dropout_3[0][0]                  \n",
      "__________________________________________________________________________________________________\n",
      "dropout_1 (Dropout)             (None, 256)          0           dense_1[0][0]                    \n",
      "__________________________________________________________________________________________________\n",
      "dropout_2 (Dropout)             (None, 256)          0           dense_2[0][0]                    \n",
      "__________________________________________________________________________________________________\n",
      "main (Dense)                    (None, 10)           2570        dense_3[0][0]                    \n",
      "__________________________________________________________________________________________________\n",
      "aux1 (Dense)                    (None, 10)           2570        dropout_1[0][0]                  \n",
      "__________________________________________________________________________________________________\n",
      "aux2 (Dense)                    (None, 10)           2570        dropout_2[0][0]                  \n",
      "==================================================================================================\n",
      "Total params: 7,427,150\n",
      "Trainable params: 7,426,638\n",
      "Non-trainable params: 512\n",
      "__________________________________________________________________________________________________\n",
      "None\n",
      "**Starting Training..\n",
      "WARNING:tensorflow:From /homes/nv304/virtpy3/lib/python3.6/site-packages/tensorflow/python/ops/math_ops.py:3066: to_int32 (from tensorflow.python.ops.math_ops) is deprecated and will be removed in a future version.\n",
      "Instructions for updating:\n",
      "Use tf.cast instead.\n",
      "Train on 33500 samples, validate on 16500 samples\n",
      "Epoch 1/1\n",
      "33500/33500 [==============================] - 136s 4ms/step - loss: 6.0087 - main_loss: 2.0028 - aux1_loss: 1.9987 - aux2_loss: 2.0063 - main_accuracy: 0.2273 - aux1_accuracy: 0.2430 - aux2_accuracy: 0.2339 - val_loss: 9.9578 - val_main_loss: 3.4376 - val_aux1_loss: 3.2262 - val_aux2_loss: 3.2947 - val_main_accuracy: 0.1471 - val_aux1_accuracy: 0.1469 - val_aux2_accuracy: 0.1380\n",
      "**Total Execution time 140.15090370178223\n"
     ]
    }
   ],
   "source": [
    "input_shape = x_train.shape[1:]\n",
    "print(\"**Creating GoogLeNet network\")\n",
    "inputs = layers.Input(shape=input_shape)\n",
    "model = get_model(input_shape,classes,d_rate,act)\n",
    "print(\"**Selecting Optimiser\", opt,\" with Learning rate \",learning_rate)\n",
    "opt_type = get_optimiser(opt,learning_rate)\n",
    "\n",
    "model.compile(loss=keras.losses.categorical_crossentropy,optimizer=opt_type,metrics=['accuracy'])\n",
    "plot_model(model, to_file='model/inception.png')\n",
    "\n",
    "print(model.summary())\n",
    "\n",
    "print(\"**Starting Training..\")\n",
    "start = time.time()\n",
    "history = model.fit(x_train, [y_train,y_train,y_train],\n",
    "                    batch_size=batch_size,\n",
    "                    epochs=epochs,\n",
    "                    verbose=1,\n",
    "                    validation_data=(x_val, [y_val,y_val,y_val]))\n",
    "end = time.time()\n",
    "total_exec_time = end - start\n",
    "print(\"**Total Execution time\", total_exec_time)"
   ]
  },
  {
   "cell_type": "code",
   "execution_count": 16,
   "metadata": {
    "colab": {},
    "colab_type": "code",
    "id": "kZ0sCkT_6Fz0"
   },
   "outputs": [
    {
     "name": "stdout",
     "output_type": "stream",
     "text": [
      "Saving Network and weights\n"
     ]
    }
   ],
   "source": [
    "print(\"Saving Network and weights\")\n",
    "weight_path = 'model/inception_wt.h5'\n",
    "model.save_weights(weight_path)"
   ]
  },
  {
   "cell_type": "code",
   "execution_count": 17,
   "metadata": {
    "colab": {},
    "colab_type": "code",
    "id": "Ui7og37P6Fz9"
   },
   "outputs": [
    {
     "name": "stdout",
     "output_type": "stream",
     "text": [
      "Evaluating network performance on Test Data\n",
      "10000/10000 [==============================] - 15s 1ms/step\n",
      "Test loss: 9.969993832397462\n",
      "Test accuracy: 3.441102981567383\n"
     ]
    }
   ],
   "source": [
    "print(\"Evaluating network performance on Test Data\")\n",
    "score = model.evaluate(x_test, [y_test,y_test,y_test], verbose=1,batch_size=batch_size)\n",
    "print('Test loss:', score[0])\n",
    "print('Test accuracy:', score[1])"
   ]
  },
  {
   "cell_type": "code",
   "execution_count": 18,
   "metadata": {
    "colab": {},
    "colab_type": "code",
    "id": "G57Im2kk6F0F"
   },
   "outputs": [
    {
     "data": {
      "image/png": "[encoded data removed]",
      "text/plain": [
       "<Figure size 432x288 with 1 Axes>"
      ]
     },
     "metadata": {
      "needs_background": "light"
     },
     "output_type": "display_data"
    },
    {
     "data": {
      "image/png": "[encoded data removed]",
      "text/plain": [
       "<Figure size 432x288 with 1 Axes>"
      ]
     },
     "metadata": {
      "needs_background": "light"
     },
     "output_type": "display_data"
    },
    {
     "data": {
      "image/png": "[encoded data removed]",
      "text/plain": [
       "<Figure size 432x288 with 1 Axes>"
      ]
     },
     "metadata": {
      "needs_background": "light"
     },
     "output_type": "display_data"
    }
   ],
   "source": [
    "plt.plot(history.history['main_accuracy'])\n",
    "plt.plot(history.history['val_main_accuracy'])\n",
    "plt.plot(history.history['aux1_accuracy'])\n",
    "plt.plot(history.history['val_aux1_accuracy'])\n",
    "plt.plot(history.history['aux2_accuracy'])\n",
    "plt.plot(history.history['val_aux2_accuracy'])\n",
    "plt.title('model accuracy')\n",
    "plt.ylabel('accuracy')\n",
    "plt.xlabel('epoch')\n",
    "plt.legend(['main_accuracy', 'val_main_accuracy','aux1_accuracy','val_aux1_accuracy','aux2_accuracy','val_aux2_accuracy'], loc='upper left')\n",
    "plt.show()\n",
    "# loss\n",
    "plt.plot(history.history['loss'])\n",
    "plt.plot(history.history['val_loss'])\n",
    "plt.title('model loss')\n",
    "plt.ylabel('loss')\n",
    "plt.xlabel('epoch')\n",
    "plt.legend(['train', 'val'], loc='upper left')\n",
    "plt.show()\n",
    "# summarize history for loss\n",
    "plt.plot(history.history['main_loss'])\n",
    "plt.plot(history.history['val_main_loss'])\n",
    "plt.plot(history.history['aux1_loss'])\n",
    "plt.plot(history.history['val_aux1_loss'])\n",
    "plt.plot(history.history['aux2_loss'])\n",
    "plt.plot(history.history['val_aux2_loss'])\n",
    "plt.title('model loss')\n",
    "plt.ylabel('loss')\n",
    "plt.xlabel('epoch')\n",
    "plt.legend(['main_loss', 'val_main_loss','aux1_loss','val_aux1_loss','aux2_loss','val_aux2_loss'], loc='upper left')\n",
    "plt.show()"
   ]
  },
  {
   "cell_type": "code",
   "execution_count": 19,
   "metadata": {
    "colab": {},
    "colab_type": "code",
    "id": "s6re5plk6F0N"
   },
   "outputs": [],
   "source": [
    "predictions = model.predict(x_test, verbose=0)"
   ]
  },
  {
   "cell_type": "code",
   "execution_count": 20,
   "metadata": {
    "colab": {},
    "colab_type": "code",
    "id": "HDw5BDUv6F0U"
   },
   "outputs": [
    {
     "data": {
      "text/plain": [
       "<matplotlib.axes._subplots.AxesSubplot at 0x7f79fe2e0f98>"
      ]
     },
     "execution_count": 20,
     "metadata": {},
     "output_type": "execute_result"
    },
    {
     "data": {
      "image/png": "[encoded data removed]",
      "text/plain": [
       "<Figure size 504x504 with 2 Axes>"
      ]
     },
     "metadata": {
      "needs_background": "light"
     },
     "output_type": "display_data"
    }
   ],
   "source": [
    "# from sklearn.metrics import classification_report, confusion_matrix\n",
    "# confusion_matrix(np.argmax(data.y_test,axis=1),np.argmax(predictions,axis=1))\n",
    "import scikitplot as skplt\n",
    "skplt.metrics.plot_confusion_matrix(np.argmax(y_test,axis=1),np.argmax(predictions[0],axis=1), normalize=True,figsize = (7,7))"
   ]
  },
  {
   "cell_type": "code",
   "execution_count": 21,
   "metadata": {
    "colab": {},
    "colab_type": "code",
    "id": "U7bAOiB-6F0a"
   },
   "outputs": [
    {
     "name": "stdout",
     "output_type": "stream",
     "text": [
      "True:          [6 6 5 5 6]\n",
      "classified as: [6 6 5 5 6]\n",
      "Error Cases\n",
      "True:          [3 1 0 9 7]\n",
      "classified as: [5 5 5 5 5]\n"
     ]
    }
   ],
   "source": [
    "def test_accuracy():\n",
    "    err = []\n",
    "    tru = []\n",
    "    for i in range(len(predictions[0])):\n",
    "        if np.argmax(predictions[0][i]) == np.argmax(y_test[i]):\n",
    "            tru.append(i)\n",
    "        else:\n",
    "            err.append(i)\n",
    "    return tru, err\n",
    "\n",
    "p = test_accuracy()\n",
    "\n",
    "# plt.subplot(330 + 1 + i)\n",
    "# plt.imshow(x_train[i], cmap=\"gray\")\n",
    "print(\"True:          {}\".format(np.argmax(y_test[p[0][0:5]], axis =1)))\n",
    "print(\"classified as: {}\".format(np.argmax(predictions[0][p[0][0:5]], axis=1)))\n",
    "print(\"Error Cases\")\n",
    "print(\"True:          {}\".format(np.argmax(y_test[p[1][6:11]], axis =1)))\n",
    "print(\"classified as: {}\".format(np.argmax(predictions[0][p[1][6:11]], axis=1)))"
   ]
  },
  {
   "cell_type": "code",
   "execution_count": 22,
   "metadata": {
    "colab": {},
    "colab_type": "code",
    "id": "0Uwkjrgo6F0f"
   },
   "outputs": [],
   "source": [
    "K.clear_session()"
   ]
  },
  {
   "cell_type": "markdown",
   "metadata": {
    "colab_type": "text",
    "id": "Ql7B9Em305k5"
   },
   "source": [
    "## Paramter Evalaution"
   ]
  },
  {
   "cell_type": "code",
   "execution_count": null,
   "metadata": {
    "colab": {},
    "colab_type": "code",
    "id": "E8tHbqwd05k6",
    "scrolled": true
   },
   "outputs": [],
   "source": [
    "# # performing best optimiser selection on mnist and cifar\n",
    "# for dataset in ['mnist','cifar10']:\n",
    "#     for opt in ['sgd', 'adam', 'adagrad']:\n",
    "#         learning_rate = 0.01\n",
    "#         d_rate = 0.2\n",
    "#         act = 'softmax'\n",
    "#         # opt = 'sgd'\n",
    "#         classes = 10\n",
    "#         dataset = \"cifar10\"\n",
    "#         input_dims = (32,32)\n",
    "#         print(\"**Selecting Dataset\", dataset)\n",
    "#         print(\"**Coverting \",dataset,\" to 3 channel dims \",str(input_dims))\n",
    "#         x_train, x_test, x_val, y_train, y_test, y_val = get_dataset(dataset,final_shape=(32,32))\n",
    "#         print(\"**Dataset Dimensions:\")\n",
    "#         print(\"**Training Dataset Dims: \",x_train.shape,y_train.shape)\n",
    "#         print(\"**Validation Dataset Dims: \",x_val.shape,y_val.shape)\n",
    "#         print(\"**Test Dataset Dims: \",x_test.shape,y_test.shape)\n",
    "\n",
    "\n",
    "#         input_shape = x_train.shape[1:]\n",
    "#         print(\"**Creating inception network\")\n",
    "#         inputs = layers.Input(shape=input_shape)\n",
    "#         model = get_model(input_shape,classes,d_rate,act)\n",
    "#         print(\"**Selecting Optimiser\", opt,\" with Learning rate \",learning_rate)\n",
    "#         opt_type = get_optimiser(opt,learning_rate)\n",
    "\n",
    "#         model.compile(loss=keras.losses.categorical_crossentropy,optimizer=opt_type,metrics=['accuracy'])\n",
    "#         plot_model(model, to_file='model/inception.png')\n",
    "\n",
    "#         print(model.summary())\n",
    "\n",
    "#         print(\"**Starting Training..\")\n",
    "#         start = time.time()\n",
    "#         history = model.fit(x_train, [y_train,y_train,y_train],\n",
    "#                     batch_size=batch_size,\n",
    "#                     epochs=epochs,\n",
    "#                     verbose=1,\n",
    "#                     validation_data=(x_val, [y_val,y_val,y_val]))\n",
    "#         end = time.time()\n",
    "#         total_exec_time = end - start\n",
    "\n",
    "#         print(\"Saving Network and weights\")\n",
    "#         weight_path = 'model/inception_wt.h5'\n",
    "#         model.save_weights(weight_path)\n",
    "#         print(\"Evaluating network performance on Test Data\")\n",
    "#         score = model.evaluate(x_test, y_test, verbose=1,batch_size=batch_size)\n",
    "#         print('Test loss:', score[0])\n",
    "#         print('Test accuracy:', score[1])\n",
    "\n",
    "#         hist = {}\n",
    "#         hist['model_name'] = 'inception'\n",
    "#         hist['dataset'] = dataset\n",
    "#         hist['d_rate'] = d_rate\n",
    "#         hist['activation'] = act\n",
    "#         hist['lr_rate'] = learning_rate\n",
    "#         hist['epochs'] = epochs\n",
    "#         hist['opt'] = opt\n",
    "#         hist['input_dims'] = data.x_train.shape[1:]\n",
    "#         hist = dict(hist, **history.history)\n",
    "#         hist['test_loss'] = score[0]\n",
    "#         hist['test_accuracy'] = score[1]\n",
    "#         np.save('model.txt',hist)\n",
    "#         result = result.append(hist, ignore_index=True)\n",
    "#         result.to_csv(\"inception_n.csv\", index=False)\n",
    "#         # K.clear_session()\n",
    "#         # cuda.select_device(0)\n",
    "#         # cuda.close()"
   ]
  },
  {
   "cell_type": "code",
   "execution_count": null,
   "metadata": {
    "colab": {},
    "colab_type": "code",
    "id": "O4Xs54RC05k-"
   },
   "outputs": [],
   "source": [
    "# result.to_csv(\"inception.csv\", index=False)"
   ]
  },
  {
   "cell_type": "code",
   "execution_count": null,
   "metadata": {
    "colab": {},
    "colab_type": "code",
    "id": "i0CUfRAp05lC"
   },
   "outputs": [],
   "source": [
    "# K.clear_session()"
   ]
  },
  {
   "cell_type": "code",
   "execution_count": null,
   "metadata": {
    "colab": {},
    "colab_type": "code",
    "id": "0kf13nAz05lF"
   },
   "outputs": [],
   "source": [
    "# # checking performace on diffent learning rates for mnist\n",
    "# for dataset in ['mnist','cifar10']:\n",
    "#     for learning_rate in [0.0001, 0.001, 0.01, 0.1, 0.5, 1]:\n",
    "#         # learning_rate = 0.01\n",
    "#         d_rate = 0.2\n",
    "#         act = 'softmax'\n",
    "#         opt = 'sgd'\n",
    "#         classes = 10\n",
    "#         dataset = \"cifar10\"\n",
    "#         input_dims = (32,32)\n",
    "#         print(\"**Selecting Dataset\", dataset)\n",
    "#         print(\"**Coverting \",dataset,\" to 3 channel dims \",str(input_dims))\n",
    "#         x_train, x_test, x_val, y_train, y_test, y_val = get_dataset(dataset,final_shape=(32,32))\n",
    "#         print(\"**Dataset Dimensions:\")\n",
    "#         print(\"**Training Dataset Dims: \",x_train.shape,y_train.shape)\n",
    "#         print(\"**Validation Dataset Dims: \",x_val.shape,y_val.shape)\n",
    "#         print(\"**Test Dataset Dims: \",x_test.shape,y_test.shape)\n",
    "\n",
    "\n",
    "#         input_shape = x_train.shape[1:]\n",
    "#         print(\"**Creating inception network\")\n",
    "#         inputs = layers.Input(shape=input_shape)\n",
    "#         model = get_model(input_shape,classes,d_rate,act)\n",
    "#         print(\"**Selecting Optimiser\", opt,\" with Learning rate \",learning_rate)\n",
    "#         opt_type = get_optimiser(opt,learning_rate)\n",
    "\n",
    "#         model.compile(loss=keras.losses.categorical_crossentropy,optimizer=opt_type,metrics=['accuracy'])\n",
    "#         plot_model(model, to_file='model/inception.png')\n",
    "\n",
    "#         print(model.summary())\n",
    "\n",
    "#         print(\"**Starting Training..\")\n",
    "#         start = time.time()\n",
    "#         history = model.fit(x_train, [y_train,y_train,y_train],\n",
    "#                     batch_size=batch_size,\n",
    "#                     epochs=epochs,\n",
    "#                     verbose=1,\n",
    "#                     validation_data=(x_val, [y_val,y_val,y_val]))\n",
    "#         end = time.time()\n",
    "#         total_exec_time = end - start\n",
    "\n",
    "#         print(\"Saving Network and weights\")\n",
    "#         weight_path = 'model/inception_wt.h5'\n",
    "#         model.save_weights(weight_path)\n",
    "#         print(\"Evaluating network performance on Test Data\")\n",
    "#         score = model.evaluate(x_test, y_test, verbose=1,batch_size=batch_size)\n",
    "#         print('Test loss:', score[0])\n",
    "#         print('Test accuracy:', score[1])\n",
    "\n",
    "#         hist = {}\n",
    "#         hist['model_name'] = 'inception'\n",
    "#         hist['dataset'] = dataset\n",
    "#         hist['d_rate'] = d_rate\n",
    "#         hist['activation'] = act\n",
    "#         hist['lr_rate'] = learning_rate\n",
    "#         hist['epochs'] = epochs\n",
    "#         hist['opt'] = opt\n",
    "#         hist['input_dims'] = data.x_train.shape[1:]\n",
    "#         hist = dict(hist, **history.history)\n",
    "#         hist['test_loss'] = score[0]\n",
    "#         hist['test_accuracy'] = score[1]\n",
    "#         np.save('model.txt',hist)\n",
    "#         result = result.append(hist, ignore_index=True)\n",
    "#         result.to_csv(\"inception_n.csv\", index=False)\n",
    "#         # K.clear_session()\n",
    "#         # cuda.select_device(0)\n",
    "#         # cuda.close()"
   ]
  },
  {
   "cell_type": "code",
   "execution_count": null,
   "metadata": {
    "colab": {},
    "colab_type": "code",
    "id": "C8Bs2Dio05lJ"
   },
   "outputs": [],
   "source": [
    "# result.to_csv(\"inception.csv\", index=False)"
   ]
  },
  {
   "cell_type": "code",
   "execution_count": null,
   "metadata": {
    "colab": {},
    "colab_type": "code",
    "id": "yLzfppcb05lN"
   },
   "outputs": [],
   "source": [
    "# K.clear_session()"
   ]
  },
  {
   "cell_type": "code",
   "execution_count": null,
   "metadata": {
    "colab": {},
    "colab_type": "code",
    "id": "YVx8n3Wl05lP"
   },
   "outputs": [],
   "source": [
    "# # checking performace on diffent activation for mnist\n",
    "# for dataset in ['mnist','cifar10']:\n",
    "#     for act in ['softmax','relu', 'tanh', 'elu']:\n",
    "#         learning_rate = 0.01\n",
    "#         d_rate = 0.2\n",
    "#         # act = 'softmax'\n",
    "#         opt = 'sgd'\n",
    "#         classes = 10\n",
    "#         dataset = \"cifar10\"\n",
    "#         input_dims = (32,32)\n",
    "#         print(\"**Selecting Dataset\", dataset)\n",
    "#         print(\"**Coverting \",dataset,\" to 3 channel dims \",str(input_dims))\n",
    "#         x_train, x_test, x_val, y_train, y_test, y_val = get_dataset(dataset,final_shape=(32,32))\n",
    "#         print(\"**Dataset Dimensions:\")\n",
    "#         print(\"**Training Dataset Dims: \",x_train.shape,y_train.shape)\n",
    "#         print(\"**Validation Dataset Dims: \",x_val.shape,y_val.shape)\n",
    "#         print(\"**Test Dataset Dims: \",x_test.shape,y_test.shape)\n",
    "\n",
    "\n",
    "#         input_shape = x_train.shape[1:]\n",
    "#         print(\"**Creating inception network\")\n",
    "#         inputs = layers.Input(shape=input_shape)\n",
    "#         model = get_model(input_shape,classes,d_rate,act)\n",
    "#         print(\"**Selecting Optimiser\", opt,\" with Learning rate \",learning_rate)\n",
    "#         opt_type = get_optimiser(opt,learning_rate)\n",
    "\n",
    "#         model.compile(loss=keras.losses.categorical_crossentropy,optimizer=opt_type,metrics=['accuracy'])\n",
    "#         plot_model(model, to_file='model/inception.png')\n",
    "\n",
    "#         print(model.summary())\n",
    "\n",
    "#         print(\"**Starting Training..\")\n",
    "#         start = time.time()\n",
    "#         history = model.fit(x_train, [y_train,y_train,y_train],\n",
    "#                     batch_size=batch_size,\n",
    "#                     epochs=epochs,\n",
    "#                     verbose=1,\n",
    "#                     validation_data=(x_val, [y_val,y_val,y_val]))\n",
    "#         end = time.time()\n",
    "#         total_exec_time = end - start\n",
    "\n",
    "#         print(\"Saving Network and weights\")\n",
    "#         weight_path = 'model/inception_wt.h5'\n",
    "#         model.save_weights(weight_path)\n",
    "#         print(\"Evaluating network performance on Test Data\")\n",
    "#         score = model.evaluate(x_test, y_test, verbose=1,batch_size=batch_size)\n",
    "#         print('Test loss:', score[0])\n",
    "#         print('Test accuracy:', score[1])\n",
    "\n",
    "#         hist = {}\n",
    "#         hist['model_name'] = 'inception'\n",
    "#         hist['dataset'] = dataset\n",
    "#         hist['d_rate'] = d_rate\n",
    "#         hist['activation'] = act\n",
    "#         hist['lr_rate'] = learning_rate\n",
    "#         hist['epochs'] = epochs\n",
    "#         hist['opt'] = opt\n",
    "#         hist['input_dims'] = data.x_train.shape[1:]\n",
    "#         hist = dict(hist, **history.history)\n",
    "#         hist['test_loss'] = score[0]\n",
    "#         hist['test_accuracy'] = score[1]\n",
    "#         np.save('model.txt',hist)\n",
    "#         result = result.append(hist, ignore_index=True)\n",
    "#         result.to_csv(\"inception_n.csv\", index=False)\n",
    "#         # K.clear_session()\n",
    "#         # cuda.select_device(0)\n",
    "#         # cuda.close()"
   ]
  },
  {
   "cell_type": "code",
   "execution_count": null,
   "metadata": {
    "colab": {},
    "colab_type": "code",
    "id": "d1ogGFTu05lT"
   },
   "outputs": [],
   "source": [
    "# result.to_csv(\"inception.csv\", index=False)"
   ]
  },
  {
   "cell_type": "code",
   "execution_count": null,
   "metadata": {
    "colab": {},
    "colab_type": "code",
    "id": "cBiixY3p05lX"
   },
   "outputs": [],
   "source": [
    "# K.clear_session()"
   ]
  },
  {
   "cell_type": "code",
   "execution_count": null,
   "metadata": {
    "colab": {},
    "colab_type": "code",
    "id": "2WPFwIJb05la"
   },
   "outputs": [],
   "source": [
    "# # checking performace on diffent dropout for mnist\n",
    "# for dataset in ['mnist','cifar10']:\n",
    "#     for d_rate in [0.1, 0.3, 0.7, 0.9]:\n",
    "#         learning_rate = 0.01\n",
    "#         # d_rate = 0.2\n",
    "#         act = 'softmax'\n",
    "#         opt = 'sgd'\n",
    "#         classes = 10\n",
    "#         dataset = \"cifar10\"\n",
    "#         input_dims = (32,32)\n",
    "#         print(\"**Selecting Dataset\", dataset)\n",
    "#         print(\"**Coverting \",dataset,\" to 3 channel dims \",str(input_dims))\n",
    "#         x_train, x_test, x_val, y_train, y_test, y_val = get_dataset(dataset,final_shape=(32,32))\n",
    "#         print(\"**Dataset Dimensions:\")\n",
    "#         print(\"**Training Dataset Dims: \",x_train.shape,y_train.shape)\n",
    "#         print(\"**Validation Dataset Dims: \",x_val.shape,y_val.shape)\n",
    "#         print(\"**Test Dataset Dims: \",x_test.shape,y_test.shape)\n",
    "\n",
    "\n",
    "#         input_shape = x_train.shape[1:]\n",
    "#         print(\"**Creating inception network\")\n",
    "#         inputs = layers.Input(shape=input_shape)\n",
    "#         model = get_model(input_shape,classes,d_rate,act)\n",
    "#         print(\"**Selecting Optimiser\", opt,\" with Learning rate \",learning_rate)\n",
    "#         opt_type = get_optimiser(opt,learning_rate)\n",
    "\n",
    "#         model.compile(loss=keras.losses.categorical_crossentropy,optimizer=opt_type,metrics=['accuracy'])\n",
    "#         plot_model(model, to_file='model/inception.png')\n",
    "\n",
    "#         print(model.summary())\n",
    "\n",
    "#         print(\"**Starting Training..\")\n",
    "#         start = time.time()\n",
    "#         history = model.fit(x_train, [y_train,y_train,y_train],\n",
    "#                     batch_size=batch_size,\n",
    "#                     epochs=epochs,\n",
    "#                     verbose=1,\n",
    "#                     validation_data=(x_val, [y_val,y_val,y_val]))\n",
    "#         end = time.time()\n",
    "#         total_exec_time = end - start\n",
    "\n",
    "#         print(\"Saving Network and weights\")\n",
    "#         weight_path = 'model/inception_wt.h5'\n",
    "#         model.save_weights(weight_path)\n",
    "#         print(\"Evaluating network performance on Test Data\")\n",
    "#         score = model.evaluate(x_test, y_test, verbose=1,batch_size=batch_size)\n",
    "#         print('Test loss:', score[0])\n",
    "#         print('Test accuracy:', score[1])\n",
    "\n",
    "#         hist = {}\n",
    "#         hist['model_name'] = 'inception'\n",
    "#         hist['dataset'] = dataset\n",
    "#         hist['d_rate'] = d_rate\n",
    "#         hist['activation'] = act\n",
    "#         hist['lr_rate'] = learning_rate\n",
    "#         hist['epochs'] = epochs\n",
    "#         hist['opt'] = opt\n",
    "#         hist['input_dims'] = data.x_train.shape[1:]\n",
    "#         hist = dict(hist, **history.history)\n",
    "#         hist['test_loss'] = score[0]\n",
    "#         hist['test_accuracy'] = score[1]\n",
    "#         np.save('model.txt',hist)\n",
    "#         result = result.append(hist, ignore_index=True)\n",
    "#         result.to_csv(\"inception_n.csv\", index=False)\n",
    "#         # K.clear_session()\n",
    "#         # cuda.select_device(0)\n",
    "#         # cuda.close()"
   ]
  },
  {
   "cell_type": "code",
   "execution_count": null,
   "metadata": {
    "colab": {},
    "colab_type": "code",
    "id": "xo9ooQgs05ld"
   },
   "outputs": [],
   "source": [
    "# result.to_csv(\"inception.csv\", index=False)"
   ]
  },
  {
   "cell_type": "code",
   "execution_count": null,
   "metadata": {
    "colab": {},
    "colab_type": "code",
    "id": "xflgAl-_05lh"
   },
   "outputs": [],
   "source": [
    "# K.clear_session()"
   ]
  }
 ],
 "metadata": {
  "accelerator": "GPU",
  "colab": {
   "collapsed_sections": [],
   "machine_shape": "hm",
   "name": "inception_yogen.ipynb",
   "provenance": []
  },
  "kernelspec": {
   "display_name": "Python 3",
   "language": "python",
   "name": "python3"
  },
  "language_info": {
   "codemirror_mode": {
    "name": "ipython",
    "version": 3
   },
   "file_extension": ".py",
   "mimetype": "text/x-python",
   "name": "python",
   "nbconvert_exporter": "python",
   "pygments_lexer": "ipython3",
   "version": "3.6.9"
  }
 },
 "nbformat": 4,
 "nbformat_minor": 4
}
