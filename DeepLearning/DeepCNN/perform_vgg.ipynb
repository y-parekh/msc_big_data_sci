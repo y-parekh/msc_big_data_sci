{
  "nbformat": 4,
  "nbformat_minor": 0,
  "metadata": {
    "kernelspec": {
      "display_name": "Python 3",
      "language": "python",
      "name": "python3"
    },
    "language_info": {
      "codemirror_mode": {
        "name": "ipython",
        "version": 3
      },
      "file_extension": ".py",
      "mimetype": "text/x-python",
      "name": "python",
      "nbconvert_exporter": "python",
      "pygments_lexer": "ipython3",
      "version": "3.6.8"
    },
    "colab": {
      "name": "vgg_yogen.ipynb",
      "provenance": [],
      "collapsed_sections": [],
      "machine_shape": "hm"
    },
    "accelerator": "GPU"
  },
  "cells": [
    {
      "cell_type": "code",
      "metadata": {
        "id": "AW0PCdIY05iJ",
        "colab_type": "code",
        "colab": {}
      },
      "source": [
        "!mkdir -p model\n",
        "# !pip install scikit-plot > /dev/null\n",
        "import os\n",
        "# os.environ[\"CUDA_VISIBLE_DEVICES\"]=\"1\""
      ],
      "execution_count": 0,
      "outputs": []
    },
    {
      "cell_type": "code",
      "metadata": {
        "id": "XkeCgSndr0XI",
        "colab_type": "code",
        "outputId": "0dad6b1b-d092-4af0-d5bf-1373c6366d03",
        "colab": {
          "base_uri": "https://localhost:8080/",
          "height": 308
        }
      },
      "source": [
        "!pip install -q scikit-plot"
      ],
      "execution_count": 0,
      "outputs": [
        {
          "output_type": "stream",
          "text": [
            "Collecting scikit-plot\n",
            "  Downloading https://files.pythonhosted.org/packages/7c/47/32520e259340c140a4ad27c1b97050dd3254fdc517b1d59974d47037510e/scikit_plot-0.3.7-py3-none-any.whl\n",
            "Requirement already satisfied: matplotlib>=1.4.0 in /usr/local/lib/python3.6/dist-packages (from scikit-plot) (3.2.1)\n",
            "Requirement already satisfied: joblib>=0.10 in /usr/local/lib/python3.6/dist-packages (from scikit-plot) (0.14.1)\n",
            "Requirement already satisfied: scipy>=0.9 in /usr/local/lib/python3.6/dist-packages (from scikit-plot) (1.4.1)\n",
            "Requirement already satisfied: scikit-learn>=0.18 in /usr/local/lib/python3.6/dist-packages (from scikit-plot) (0.22.2.post1)\n",
            "Requirement already satisfied: kiwisolver>=1.0.1 in /usr/local/lib/python3.6/dist-packages (from matplotlib>=1.4.0->scikit-plot) (1.2.0)\n",
            "Requirement already satisfied: pyparsing!=2.0.4,!=2.1.2,!=2.1.6,>=2.0.1 in /usr/local/lib/python3.6/dist-packages (from matplotlib>=1.4.0->scikit-plot) (2.4.7)\n",
            "Requirement already satisfied: python-dateutil>=2.1 in /usr/local/lib/python3.6/dist-packages (from matplotlib>=1.4.0->scikit-plot) (2.8.1)\n",
            "Requirement already satisfied: numpy>=1.11 in /usr/local/lib/python3.6/dist-packages (from matplotlib>=1.4.0->scikit-plot) (1.18.3)\n",
            "Requirement already satisfied: cycler>=0.10 in /usr/local/lib/python3.6/dist-packages (from matplotlib>=1.4.0->scikit-plot) (0.10.0)\n",
            "Requirement already satisfied: six>=1.5 in /usr/local/lib/python3.6/dist-packages (from python-dateutil>=2.1->matplotlib>=1.4.0->scikit-plot) (1.12.0)\n",
            "Installing collected packages: scikit-plot\n",
            "Successfully installed scikit-plot-0.3.7\n"
          ],
          "name": "stdout"
        }
      ]
    },
    {
      "cell_type": "code",
      "metadata": {
        "scrolled": true,
        "id": "aCVW-3t905iX",
        "colab_type": "code",
        "colab": {}
      },
      "source": [
        "import numpy as np\n",
        "import os,time\n",
        "import cv2\n",
        "import keras\n",
        "from keras import backend as K\n",
        "from keras import layers\n",
        "from keras import models\n",
        "from keras.datasets import mnist\n",
        "from keras.datasets import cifar10\n",
        "from sklearn.model_selection import train_test_split\n",
        "import matplotlib.pyplot as plt \n",
        "import pandas as pd\n",
        "from tensorflow.keras.utils import plot_model"
      ],
      "execution_count": 0,
      "outputs": []
    },
    {
      "cell_type": "code",
      "metadata": {
        "id": "n0eCjkYD05in",
        "colab_type": "code",
        "colab": {}
      },
      "source": [
        "from numba import cuda"
      ],
      "execution_count": 0,
      "outputs": []
    },
    {
      "cell_type": "code",
      "metadata": {
        "id": "MRxbh_Yp05iv",
        "colab_type": "code",
        "colab": {}
      },
      "source": [
        "batch_size = 128\n",
        "buffer_size = 10000\n",
        "steps_per_epoch = int(np.ceil(60000 / float(batch_size)))  # = 469\n",
        "epochs = 15\n",
        "result = pd.DataFrame()"
      ],
      "execution_count": 0,
      "outputs": []
    },
    {
      "cell_type": "code",
      "metadata": {
        "id": "mOEMbFoL05i2",
        "colab_type": "code",
        "outputId": "ae5816ac-320c-42bd-ecfa-204f9a0ff187",
        "colab": {
          "base_uri": "https://localhost:8080/",
          "height": 114
        }
      },
      "source": [
        "def get_dataset(dataset_name,final_shape=(32,32),classes=10):\n",
        "    if dataset_name == \"mnist\":\n",
        "        (x_train, y_train), (x_test, y_test) = mnist.load_data()\n",
        "        x_train, x_val, y_train, y_val = train_test_split(x_train, y_train, test_size=0.33, shuffle=True ,random_state=42)\n",
        "        \n",
        "        pad_0 = int((final_shape[0]-28)/2)\n",
        "        pad_1 = int((final_shape[1]-28)/2)\n",
        "        \n",
        "        x_train = x_train.astype('float32')        \n",
        "        x_train = x_train.reshape(x_train.shape[0], 28, 28, 1)\n",
        "        x_train = np.pad(x_train, ((0,0),(pad_0,pad_1),(pad_0,pad_1),(0,0)), 'constant')\n",
        "        x_train = np.stack((x_train,)*3, axis=-1)\n",
        "        x_train = x_train[:,:,:,0,:]\n",
        "        \n",
        "        x_test = x_test.astype('float32')\n",
        "        x_test = x_test.reshape(x_test.shape[0], 28, 28, 1)\n",
        "        x_test = np.pad(x_test, ((0,0),(pad_0,pad_1),(pad_0,pad_1),(0,0)), 'constant')\n",
        "        x_test = np.stack((x_test,)*3, axis=-1)\n",
        "        x_test = x_test[:,:,:,0,:]\n",
        "        \n",
        "        x_val = x_val.astype('float32')\n",
        "        x_val = x_val.reshape(x_val.shape[0], 28, 28, 1)\n",
        "        x_val = np.pad(x_val, ((0,0),(pad_0,pad_1),(pad_0,pad_1),(0,0)), 'constant')\n",
        "        x_val = np.stack((x_val,)*3, axis=-1)\n",
        "        x_val = x_val[:,:,:,0,:]\n",
        "        \n",
        "        y_train = keras.utils.to_categorical(y_train, classes)\n",
        "        y_test = keras.utils.to_categorical(y_test, classes)\n",
        "        y_val = keras.utils.to_categorical(y_val, classes)\n",
        "        \n",
        "    if dataset_name == \"cifar10\":\n",
        "        (x_train, y_train), (x_test, y_test) = cifar10.load_data()\n",
        "        x_train, x_val, y_train, y_val = train_test_split(x_train, y_train, test_size=0.33, shuffle=True ,random_state=42)\n",
        "\n",
        "        pad_0 = int((final_shape[0]-32)/2)\n",
        "        pad_1 = int((final_shape[1]-32)/2)\n",
        "        \n",
        "        x_train = x_train.astype('float32')        \n",
        "        x_train = np.pad(x_train, ((0,0),(pad_0,pad_1),(pad_0,pad_1),(0,0)), 'constant')\n",
        "        \n",
        "        x_val = x_val.astype('float32')\n",
        "        x_val = np.pad(x_val, ((0,0),(pad_0,pad_1),(pad_0,pad_1),(0,0)), 'constant')\n",
        "        \n",
        "        x_test = x_test.astype('float32')\n",
        "        x_test = np.pad(x_test, ((0,0),(pad_0,pad_1),(pad_0,pad_1),(0,0)), 'constant')\n",
        "        \n",
        "        y_train = keras.utils.to_categorical(y_train, classes)\n",
        "        y_test = keras.utils.to_categorical(y_test, classes)\n",
        "        y_val = keras.utils.to_categorical(y_val, classes)\n",
        "        \n",
        "    return x_train, x_test, x_val, y_train, y_test, y_val\n",
        "\n",
        "(x_train, x_test, x_val, y_train, y_test, y_val) = get_dataset(\"mnist\",final_shape=(32,32),classes=10)\n",
        "print(x_train.shape,y_train.shape)\n",
        "print(x_val.shape, y_val.shape)\n",
        "print(x_test.shape,y_test.shape)"
      ],
      "execution_count": 0,
      "outputs": [
        {
          "output_type": "stream",
          "text": [
            "Downloading data from https://s3.amazonaws.com/img-datasets/mnist.npz\n",
            "11493376/11490434 [==============================] - 0s 0us/step\n",
            "(40200, 32, 32, 3) (40200, 10)\n",
            "(19800, 32, 32, 3) (19800, 10)\n",
            "(10000, 32, 32, 3) (10000, 10)\n"
          ],
          "name": "stdout"
        }
      ]
    },
    {
      "cell_type": "code",
      "metadata": {
        "id": "ejDEeIWQ05i-",
        "colab_type": "code",
        "outputId": "45b39f04-87d0-410f-a762-8a004157660f",
        "colab": {
          "base_uri": "https://localhost:8080/",
          "height": 442
        }
      },
      "source": [
        "import random\n",
        "%matplotlib inline\n",
        "\n",
        "# index = random.randint(0, len(data.x_train))\n",
        "# image = data.x_train[index].squeeze()\n",
        "\n",
        "# plt.figure(figsize=(5,5))\n",
        "# plt.imshow(image, cmap=\"gray\")\n",
        "# print(y_train[index])\n",
        "for i in range(9):\n",
        "    plt.subplot(330 + 1 + i)\n",
        "    plt.imshow(x_train[i], cmap=\"gray\")\n",
        "plt.show()"
      ],
      "execution_count": 0,
      "outputs": [
        {
          "output_type": "stream",
          "text": [
            "Clipping input data to the valid range for imshow with RGB data ([0..1] for floats or [0..255] for integers).\n",
            "Clipping input data to the valid range for imshow with RGB data ([0..1] for floats or [0..255] for integers).\n",
            "Clipping input data to the valid range for imshow with RGB data ([0..1] for floats or [0..255] for integers).\n",
            "Clipping input data to the valid range for imshow with RGB data ([0..1] for floats or [0..255] for integers).\n",
            "Clipping input data to the valid range for imshow with RGB data ([0..1] for floats or [0..255] for integers).\n",
            "Clipping input data to the valid range for imshow with RGB data ([0..1] for floats or [0..255] for integers).\n",
            "Clipping input data to the valid range for imshow with RGB data ([0..1] for floats or [0..255] for integers).\n",
            "Clipping input data to the valid range for imshow with RGB data ([0..1] for floats or [0..255] for integers).\n",
            "Clipping input data to the valid range for imshow with RGB data ([0..1] for floats or [0..255] for integers).\n"
          ],
          "name": "stderr"
        },
        {
          "output_type": "display_data",
          "data": {
            "image/png": "[encoded data removed]",
            "text/plain": [
              "<Figure size 432x288 with 9 Axes>"
            ]
          },
          "metadata": {
            "tags": [],
            "needs_background": "light"
          }
        }
      ]
    },
    {
      "cell_type": "code",
      "metadata": {
        "id": "4DhF5Qbc05jF",
        "colab_type": "code",
        "colab": {}
      },
      "source": [
        "def get_model(input_shape,classes=10,d_rate=0.2,act='softmax'):\n",
        "    inputs = layers.Input(shape=input_shape)\n",
        "    # block 1\n",
        "    layer = layers.Conv2D(filters=64,kernel_size=(3, 3),activation='relu',padding='same',name='block1_conv1')(inputs)\n",
        "    layer = layers.Conv2D(filters=64,kernel_size=(3, 3),activation='relu',padding='same',name='block1_conv2')(layer)\n",
        "    layer = layers.MaxPooling2D(pool_size=(2, 2),strides=(2, 2), name='block1_pool')(layer)\n",
        "\n",
        "    # block 2\n",
        "    layer = layers.Conv2D(filters=128,kernel_size=(3, 3),activation='relu',padding='same',name='block2_conv1')(layer)\n",
        "    layer = layers.Conv2D(filters=128,kernel_size=(3, 3),activation='relu',padding='same',name='block2_conv2')(layer)\n",
        "    layer = layers.MaxPooling2D(pool_size=(2, 2),strides=(2, 2),name='block2_pool')(layer)\n",
        "\n",
        "    # block 3\n",
        "    layer = layers.Conv2D(filters=256,kernel_size=(3, 3),activation='relu',padding='same',name='block3_conv1')(layer)\n",
        "    layer = layers.Conv2D(filters=256,kernel_size=(3, 3),activation='relu',padding='same',name='block3_conv2')(layer)\n",
        "    layer = layers.Conv2D(filters=256,kernel_size=(3, 3),activation='relu',padding='same',name='block3_conv3')(layer)\n",
        "    layer = layers.MaxPooling2D(pool_size=(2, 2),strides=(2, 2),name='block3_pool')(layer)\n",
        "\n",
        "    # block 4\n",
        "    layer = layers.Conv2D(filters=512,kernel_size=(3, 3),activation='relu',padding='same',name='block4_conv1')(layer)\n",
        "    layer = layers.Conv2D(filters=512,kernel_size=(3, 3),activation='relu',padding='same',name='block4_conv2')(layer)\n",
        "    layer = layers.Conv2D(filters=512,kernel_size=(3, 3),activation='relu',padding='same',name='block4_conv3')(layer)\n",
        "    layer = layers.MaxPooling2D(pool_size=(2, 2),strides=(2, 2),name='block4_pool')(layer)\n",
        "\n",
        "    # block 5\n",
        "    layer = layers.Conv2D(filters=512,kernel_size=(3, 3),activation='relu',padding='same',name='block5_conv1')(layer)\n",
        "    layer = layers.Conv2D(filters=512,kernel_size=(3, 3),activation='relu',padding='same',name='block5_conv2')(layer)\n",
        "    layer = layers.Conv2D(filters=512,kernel_size=(3, 3),activation='relu',padding='same',name='block5_conv3')(layer)\n",
        "    if layer.shape[1] > 1:\n",
        "        layer = layers.MaxPooling2D(pool_size=(2, 2),strides=(2, 2),name='block5_pool')(layer)\n",
        "\n",
        "    \n",
        "    layer = layers.Flatten(name='flatten')(layer)\n",
        "    layer = layers.Dense(units=4096,activation='relu',name='fc1')(layer)\n",
        "#     layer = layers.Dropout(0.2)(layer)\n",
        "    layer = layers.Dense(units=4096,activation='relu',name='fc2')(layer)\n",
        "#     layer = layers.Dropout(0.2)(layer)\n",
        "    layer = layers.Dense(units=1000,activation='relu',name='fc3')(layer)\n",
        "    layer = layers.Dropout(d_rate,name='dropout')(layer)\n",
        "    layer = layers.Dense(classes,activation=act,use_bias=True,kernel_initializer='glorot_uniform',bias_initializer='zeros',name='predictions')(layer)\n",
        "    model = models.Model(inputs=inputs, outputs=layer)\n",
        "    return model"
      ],
      "execution_count": 0,
      "outputs": []
    },
    {
      "cell_type": "code",
      "metadata": {
        "id": "XqrHvIzr05jL",
        "colab_type": "code",
        "colab": {}
      },
      "source": [
        "def get_optimiser(opt,learning_rate):\n",
        "    if opt=='sgd':\n",
        "        opt_type = keras.optimizers.SGD(lr=learning_rate,decay=1e-6,momentum=0.9,nesterov=True)\n",
        "    if opt=='adagrad':\n",
        "        opt_type = keras.optimizers.Adagrad(lr=learning_rate,epsilon=1e-08)\n",
        "    if opt=='adam':\n",
        "        opt_type = keras.optimizers.Adam(lr=learning_rate,beta_1=0.9,beta_2=0.999,epsilon=1e-08,amsgrad=False)\n",
        "    return opt_type"
      ],
      "execution_count": 0,
      "outputs": []
    },
    {
      "cell_type": "markdown",
      "metadata": {
        "id": "lWPYV7jI05jQ",
        "colab_type": "text"
      },
      "source": [
        "## MNIST"
      ]
    },
    {
      "cell_type": "code",
      "metadata": {
        "id": "VD36MtEV05jR",
        "colab_type": "code",
        "outputId": "bf5477d6-1731-4f7e-ead9-67a71487b964",
        "colab": {
          "base_uri": "https://localhost:8080/",
          "height": 133
        }
      },
      "source": [
        "learning_rate = 0.01\n",
        "dropout_rate = 0.2\n",
        "act = 'softmax'\n",
        "opt = 'sgd'\n",
        "classes = 10\n",
        "dataset = \"mnist\"\n",
        "input_dims = (32,32)\n",
        "print(\"**Selecting Dataset\", dataset)\n",
        "print(\"**Coverting \",dataset,\" to 3 channel dims \",str(input_dims))\n",
        "x_train, x_test, x_val, y_train, y_test, y_val = get_dataset(dataset,final_shape=(32,32))\n",
        "print(\"**Dataset Dimensions:\")\n",
        "print(\"**Training Dataset Dims: \",x_train.shape,y_train.shape)\n",
        "print(\"**Validation Dataset Dims: \",x_val.shape,y_val.shape)\n",
        "print(\"**Test Dataset Dims: \",x_test.shape,y_test.shape)\n"
      ],
      "execution_count": 0,
      "outputs": [
        {
          "output_type": "stream",
          "text": [
            "**Selecting Dataset mnist\n",
            "**Coverting  mnist  to 3 channel dims  (32, 32)\n",
            "**Dataset Dimensions:\n",
            "**Training Dataset Dims:  (40200, 32, 32, 3) (40200, 10)\n",
            "**Validation Dataset Dims:  (19800, 32, 32, 3) (19800, 10)\n",
            "**Test Dataset Dims:  (10000, 32, 32, 3) (10000, 10)\n"
          ],
          "name": "stdout"
        }
      ]
    },
    {
      "cell_type": "code",
      "metadata": {
        "id": "ke0c5Ufb7uoZ",
        "colab_type": "code",
        "outputId": "4f355d0d-9d87-44bf-832f-03b5c548ac02",
        "colab": {
          "base_uri": "https://localhost:8080/",
          "height": 1000
        }
      },
      "source": [
        "input_shape = x_train.shape[1:]\n",
        "print(\"**Creating VGG16 network\")\n",
        "inputs = layers.Input(shape=input_shape)\n",
        "model = get_model(input_shape,classes,dropout_rate,act)\n",
        "print(\"**Selecting Optimiser\", opt,\" with Learning rate \",learning_rate)\n",
        "opt_type = get_optimiser(opt,learning_rate)\n",
        "\n",
        "model.compile(loss=keras.losses.categorical_crossentropy,optimizer=opt_type,metrics=['accuracy'])\n",
        "plot_model(model, to_file='model/vgg16.png')\n",
        "\n",
        "print(model.summary())\n",
        "\n",
        "print(\"**Starting Training..\")\n",
        "start = time.time()\n",
        "history = model.fit(x_train, y_train,\n",
        "                    batch_size=batch_size,\n",
        "                    epochs=10,\n",
        "                    verbose=1,\n",
        "                    validation_data=(x_val, y_val))\n",
        "end = time.time()\n",
        "total_exec_time = end - start\n",
        "print(\"**Total Execution time\", total_exec_time)"
      ],
      "execution_count": 0,
      "outputs": [
        {
          "output_type": "stream",
          "text": [
            "**Creating VGG16 network\n",
            "**Selecting Optimiser sgd  with Learning rate  0.01\n",
            "Model: \"model_1\"\n",
            "_________________________________________________________________\n",
            "Layer (type)                 Output Shape              Param #   \n",
            "=================================================================\n",
            "input_2 (InputLayer)         (None, 32, 32, 3)         0         \n",
            "_________________________________________________________________\n",
            "block1_conv1 (Conv2D)        (None, 32, 32, 64)        1792      \n",
            "_________________________________________________________________\n",
            "block1_conv2 (Conv2D)        (None, 32, 32, 64)        36928     \n",
            "_________________________________________________________________\n",
            "block1_pool (MaxPooling2D)   (None, 16, 16, 64)        0         \n",
            "_________________________________________________________________\n",
            "block2_conv1 (Conv2D)        (None, 16, 16, 128)       73856     \n",
            "_________________________________________________________________\n",
            "block2_conv2 (Conv2D)        (None, 16, 16, 128)       147584    \n",
            "_________________________________________________________________\n",
            "block2_pool (MaxPooling2D)   (None, 8, 8, 128)         0         \n",
            "_________________________________________________________________\n",
            "block3_conv1 (Conv2D)        (None, 8, 8, 256)         295168    \n",
            "_________________________________________________________________\n",
            "block3_conv2 (Conv2D)        (None, 8, 8, 256)         590080    \n",
            "_________________________________________________________________\n",
            "block3_conv3 (Conv2D)        (None, 8, 8, 256)         590080    \n",
            "_________________________________________________________________\n",
            "block3_pool (MaxPooling2D)   (None, 4, 4, 256)         0         \n",
            "_________________________________________________________________\n",
            "block4_conv1 (Conv2D)        (None, 4, 4, 512)         1180160   \n",
            "_________________________________________________________________\n",
            "block4_conv2 (Conv2D)        (None, 4, 4, 512)         2359808   \n",
            "_________________________________________________________________\n",
            "block4_conv3 (Conv2D)        (None, 4, 4, 512)         2359808   \n",
            "_________________________________________________________________\n",
            "block4_pool (MaxPooling2D)   (None, 2, 2, 512)         0         \n",
            "_________________________________________________________________\n",
            "block5_conv1 (Conv2D)        (None, 2, 2, 512)         2359808   \n",
            "_________________________________________________________________\n",
            "block5_conv2 (Conv2D)        (None, 2, 2, 512)         2359808   \n",
            "_________________________________________________________________\n",
            "block5_conv3 (Conv2D)        (None, 2, 2, 512)         2359808   \n",
            "_________________________________________________________________\n",
            "block5_pool (MaxPooling2D)   (None, 1, 1, 512)         0         \n",
            "_________________________________________________________________\n",
            "flatten (Flatten)            (None, 512)               0         \n",
            "_________________________________________________________________\n",
            "fc1 (Dense)                  (None, 4096)              2101248   \n",
            "_________________________________________________________________\n",
            "fc2 (Dense)                  (None, 4096)              16781312  \n",
            "_________________________________________________________________\n",
            "fc3 (Dense)                  (None, 1000)              4097000   \n",
            "_________________________________________________________________\n",
            "dropout (Dropout)            (None, 1000)              0         \n",
            "_________________________________________________________________\n",
            "predictions (Dense)          (None, 10)                10010     \n",
            "=================================================================\n",
            "Total params: 37,704,258\n",
            "Trainable params: 37,704,258\n",
            "Non-trainable params: 0\n",
            "_________________________________________________________________\n",
            "None\n",
            "**Starting Training..\n",
            "Train on 40200 samples, validate on 19800 samples\n",
            "Epoch 1/10\n",
            "40200/40200 [==============================] - 21s 530us/step - loss: 1.3325 - accuracy: 0.5314 - val_loss: 0.1349 - val_accuracy: 0.9613\n",
            "Epoch 2/10\n",
            "40200/40200 [==============================] - 14s 354us/step - loss: 0.0957 - accuracy: 0.9727 - val_loss: 0.0755 - val_accuracy: 0.9796\n",
            "Epoch 3/10\n",
            "40200/40200 [==============================] - 14s 354us/step - loss: 0.0531 - accuracy: 0.9850 - val_loss: 0.1027 - val_accuracy: 0.9709\n",
            "Epoch 4/10\n",
            "40200/40200 [==============================] - 14s 354us/step - loss: 0.0366 - accuracy: 0.9893 - val_loss: 0.0822 - val_accuracy: 0.9815\n",
            "Epoch 5/10\n",
            "40200/40200 [==============================] - 14s 354us/step - loss: 0.0279 - accuracy: 0.9921 - val_loss: 0.1031 - val_accuracy: 0.9707\n",
            "Epoch 6/10\n",
            "40200/40200 [==============================] - 14s 355us/step - loss: 0.0280 - accuracy: 0.9920 - val_loss: 0.0494 - val_accuracy: 0.9869\n",
            "Epoch 7/10\n",
            "40200/40200 [==============================] - 14s 354us/step - loss: 0.0184 - accuracy: 0.9947 - val_loss: 0.0415 - val_accuracy: 0.9890\n",
            "Epoch 8/10\n",
            "40200/40200 [==============================] - 14s 354us/step - loss: 0.0146 - accuracy: 0.9959 - val_loss: 0.0668 - val_accuracy: 0.9853\n",
            "Epoch 9/10\n",
            "40200/40200 [==============================] - 14s 357us/step - loss: 0.0127 - accuracy: 0.9956 - val_loss: 0.0459 - val_accuracy: 0.9896\n",
            "Epoch 10/10\n",
            "40200/40200 [==============================] - 14s 354us/step - loss: 0.0115 - accuracy: 0.9966 - val_loss: 0.0458 - val_accuracy: 0.9888\n",
            "**Total Execution time 150.44668889045715\n"
          ],
          "name": "stdout"
        }
      ]
    },
    {
      "cell_type": "code",
      "metadata": {
        "id": "VjPCb0jR05jY",
        "colab_type": "code",
        "outputId": "059b235a-2c47-4803-d536-976bd91a46f7",
        "colab": {
          "base_uri": "https://localhost:8080/",
          "height": 36
        }
      },
      "source": [
        "print(\"Saving Network and weights\")\n",
        "weight_path = 'model/vgg16_wt.h5'\n",
        "model.save_weights(weight_path)"
      ],
      "execution_count": 0,
      "outputs": [
        {
          "output_type": "stream",
          "text": [
            "Saving Network and weights\n"
          ],
          "name": "stdout"
        }
      ]
    },
    {
      "cell_type": "code",
      "metadata": {
        "id": "ZvK1pZMr05jg",
        "colab_type": "code",
        "outputId": "e7f566da-b48e-4519-d92a-9cdd79d3f00a",
        "colab": {
          "base_uri": "https://localhost:8080/",
          "height": 94
        }
      },
      "source": [
        "print(\"Evaluating network performance on Test Data\")\n",
        "score = model.evaluate(x_test, y_test, verbose=1,batch_size=batch_size)\n",
        "print('Test loss:', score[0])\n",
        "print('Test accuracy:', score[1])"
      ],
      "execution_count": 0,
      "outputs": [
        {
          "output_type": "stream",
          "text": [
            "Evaluating network performance on Test Data\n",
            "10000/10000 [==============================] - 1s 106us/step\n",
            "Test loss: 0.030621020053327085\n",
            "Test accuracy: 0.9918000102043152\n"
          ],
          "name": "stdout"
        }
      ]
    },
    {
      "cell_type": "code",
      "metadata": {
        "id": "0DwtPYdo05jl",
        "colab_type": "code",
        "outputId": "7c8c7e09-ed6f-4470-f5e0-ab2c0c9f6c91",
        "colab": {
          "base_uri": "https://localhost:8080/",
          "height": 573
        }
      },
      "source": [
        "plt.plot(history.history['accuracy'])\n",
        "plt.plot(history.history['val_accuracy'])\n",
        "plt.title('model accuracy')\n",
        "plt.ylabel('accuracy')\n",
        "plt.xlabel('epoch')\n",
        "plt.legend(['train', 'val'], loc='upper left')\n",
        "plt.show()\n",
        "# summarize history for loss\n",
        "plt.plot(history.history['loss'])\n",
        "plt.plot(history.history['val_loss'])\n",
        "plt.title('model loss')\n",
        "plt.ylabel('loss')\n",
        "plt.xlabel('epoch')\n",
        "plt.legend(['train', 'val'], loc='upper left')\n",
        "plt.show()"
      ],
      "execution_count": 0,
      "outputs": [
        {
          "output_type": "display_data",
          "data": {
            "image/png": "[encoded data removed]",
            "text/plain": [
              "<Figure size 432x288 with 1 Axes>"
            ]
          },
          "metadata": {
            "tags": [],
            "needs_background": "light"
          }
        },
        {
          "output_type": "display_data",
          "data": {
            "image/png": "[encoded data removed]",
            "text/plain": [
              "<Figure size 432x288 with 1 Axes>"
            ]
          },
          "metadata": {
            "tags": [],
            "needs_background": "light"
          }
        }
      ]
    },
    {
      "cell_type": "code",
      "metadata": {
        "id": "bdb3AOJw05js",
        "colab_type": "code",
        "colab": {}
      },
      "source": [
        "predictions = model.predict(x_test, verbose=0)"
      ],
      "execution_count": 0,
      "outputs": []
    },
    {
      "cell_type": "code",
      "metadata": {
        "id": "StpUmU2c05jy",
        "colab_type": "code",
        "outputId": "99afc3bd-eca6-42d0-bc1a-475e224ac93f",
        "colab": {
          "base_uri": "https://localhost:8080/",
          "height": 440
        }
      },
      "source": [
        "# from sklearn.metrics import classification_report, confusion_matrix\n",
        "# confusion_matrix(np.argmax(data.y_test,axis=1),np.argmax(predictions,axis=1))\n",
        "import scikitplot as skplt\n",
        "skplt.metrics.plot_confusion_matrix(np.argmax(y_test,axis=1),np.argmax(predictions,axis=1), normalize=True,figsize = (7,7))"
      ],
      "execution_count": 0,
      "outputs": [
        {
          "output_type": "execute_result",
          "data": {
            "text/plain": [
              "<matplotlib.axes._subplots.AxesSubplot at 0x7fd0dc145780>"
            ]
          },
          "metadata": {
            "tags": []
          },
          "execution_count": 20
        },
        {
          "output_type": "display_data",
          "data": {
            "image/png": "[encoded data removed]",
            "text/plain": [
              "<Figure size 504x504 with 2 Axes>"
            ]
          },
          "metadata": {
            "tags": [],
            "needs_background": "light"
          }
        }
      ]
    },
    {
      "cell_type": "code",
      "metadata": {
        "id": "0hTOI_II05j3",
        "colab_type": "code",
        "outputId": "c9114e04-bccd-45d3-f582-01255462516c",
        "colab": {
          "base_uri": "https://localhost:8080/",
          "height": 114
        }
      },
      "source": [
        "def test_accuracy():\n",
        "    err = []\n",
        "    tru = []\n",
        "    for i in range(predictions.shape[0]):\n",
        "        if np.argmax(predictions[i]) == np.argmax(y_test[i]):\n",
        "            tru.append(i)\n",
        "        else:\n",
        "            err.append(i)\n",
        "    return tru, err\n",
        "\n",
        "p = test_accuracy()\n",
        "\n",
        "# plt.subplot(330 + 1 + i)\n",
        "# plt.imshow(x_train[i], cmap=\"gray\")\n",
        "print(\"True:          {}\".format(np.argmax(y_test[p[0][0:5]], axis =1)))\n",
        "print(\"classified as: {}\".format(np.argmax(predictions[p[0][0:5]], axis=1)))\n",
        "print(\"Error Cases\")\n",
        "print(\"True:          {}\".format(np.argmax(y_test[p[1][6:11]], axis =1)))\n",
        "print(\"classified as: {}\".format(np.argmax(predictions[p[1][6:11]], axis=1)))"
      ],
      "execution_count": 0,
      "outputs": [
        {
          "output_type": "stream",
          "text": [
            "True:          [7 2 1 0 4]\n",
            "classified as: [7 2 1 0 4]\n",
            "Error Cases\n",
            "True:          [2 1 2 3 8]\n",
            "classified as: [4 7 7 5 9]\n"
          ],
          "name": "stdout"
        }
      ]
    },
    {
      "cell_type": "code",
      "metadata": {
        "id": "IIADXVhG05j9",
        "colab_type": "code",
        "colab": {}
      },
      "source": [
        "K.clear_session()"
      ],
      "execution_count": 0,
      "outputs": []
    },
    {
      "cell_type": "markdown",
      "metadata": {
        "colab_type": "text",
        "id": "rRtwQ18S6FzV"
      },
      "source": [
        "## CIFAR10"
      ]
    },
    {
      "cell_type": "code",
      "metadata": {
        "colab_type": "code",
        "outputId": "73f7a76e-529c-4684-8fcf-8c3404cd5565",
        "id": "YU0_nxJn6FzZ",
        "colab": {
          "base_uri": "https://localhost:8080/",
          "height": 172
        }
      },
      "source": [
        "learning_rate = 0.01\n",
        "dropout_rate = 0.2\n",
        "act = 'softmax'\n",
        "opt = 'sgd'\n",
        "classes = 10\n",
        "dataset = \"cifar10\"\n",
        "input_dims = (32,32)\n",
        "print(\"**Selecting Dataset\", dataset)\n",
        "print(\"**Coverting \",dataset,\" to 3 channel dims \",str(input_dims))\n",
        "x_train, x_test, x_val, y_train, y_test, y_val = get_dataset(dataset,final_shape=(32,32))\n",
        "print(\"**Dataset Dimensions:\")\n",
        "print(\"**Training Dataset Dims: \",x_train.shape,y_train.shape)\n",
        "print(\"**Validation Dataset Dims: \",x_val.shape,y_val.shape)\n",
        "print(\"**Test Dataset Dims: \",x_test.shape,y_test.shape)\n"
      ],
      "execution_count": 0,
      "outputs": [
        {
          "output_type": "stream",
          "text": [
            "**Selecting Dataset cifar10\n",
            "**Coverting  cifar10  to 3 channel dims  (32, 32)\n",
            "Downloading data from https://www.cs.toronto.edu/~kriz/cifar-10-python.tar.gz\n",
            "170500096/170498071 [==============================] - 2s 0us/step\n",
            "**Dataset Dimensions:\n",
            "**Training Dataset Dims:  (33500, 32, 32, 3) (33500, 10)\n",
            "**Validation Dataset Dims:  (16500, 32, 32, 3) (16500, 10)\n",
            "**Test Dataset Dims:  (10000, 32, 32, 3) (10000, 10)\n"
          ],
          "name": "stdout"
        }
      ]
    },
    {
      "cell_type": "code",
      "metadata": {
        "colab_type": "code",
        "outputId": "7392de34-b4d9-424b-c371-0617158e77a4",
        "id": "WTrvXlnF6Fzp",
        "colab": {
          "base_uri": "https://localhost:8080/",
          "height": 1000
        }
      },
      "source": [
        "input_shape = x_train.shape[1:]\n",
        "print(\"**Creating VGG16 network\")\n",
        "inputs = layers.Input(shape=input_shape)\n",
        "model = get_model(input_shape,classes,dropout_rate,act)\n",
        "print(\"**Selecting Optimiser\", opt,\" with Learning rate \",learning_rate)\n",
        "opt_type = get_optimiser(opt,learning_rate)\n",
        "\n",
        "model.compile(loss=keras.losses.categorical_crossentropy,optimizer=opt_type,metrics=['accuracy'])\n",
        "plot_model(model, to_file='model/vgg16.png')\n",
        "\n",
        "print(model.summary())\n",
        "\n",
        "print(\"**Starting Training..\")\n",
        "start = time.time()\n",
        "history = model.fit(x_train, y_train,\n",
        "                    batch_size=batch_size,\n",
        "                    epochs=10,\n",
        "                    verbose=1,\n",
        "                    validation_data=(x_val, y_val))\n",
        "end = time.time()\n",
        "total_exec_time = end - start\n",
        "print(\"**Total Execution time\", total_exec_time)"
      ],
      "execution_count": 0,
      "outputs": [
        {
          "output_type": "stream",
          "text": [
            "**Creating VGG16 network\n",
            "**Selecting Optimiser sgd  with Learning rate  0.01\n",
            "Model: \"model_1\"\n",
            "_________________________________________________________________\n",
            "Layer (type)                 Output Shape              Param #   \n",
            "=================================================================\n",
            "input_2 (InputLayer)         (None, 32, 32, 3)         0         \n",
            "_________________________________________________________________\n",
            "block1_conv1 (Conv2D)        (None, 32, 32, 64)        1792      \n",
            "_________________________________________________________________\n",
            "block1_conv2 (Conv2D)        (None, 32, 32, 64)        36928     \n",
            "_________________________________________________________________\n",
            "block1_pool (MaxPooling2D)   (None, 16, 16, 64)        0         \n",
            "_________________________________________________________________\n",
            "block2_conv1 (Conv2D)        (None, 16, 16, 128)       73856     \n",
            "_________________________________________________________________\n",
            "block2_conv2 (Conv2D)        (None, 16, 16, 128)       147584    \n",
            "_________________________________________________________________\n",
            "block2_pool (MaxPooling2D)   (None, 8, 8, 128)         0         \n",
            "_________________________________________________________________\n",
            "block3_conv1 (Conv2D)        (None, 8, 8, 256)         295168    \n",
            "_________________________________________________________________\n",
            "block3_conv2 (Conv2D)        (None, 8, 8, 256)         590080    \n",
            "_________________________________________________________________\n",
            "block3_conv3 (Conv2D)        (None, 8, 8, 256)         590080    \n",
            "_________________________________________________________________\n",
            "block3_pool (MaxPooling2D)   (None, 4, 4, 256)         0         \n",
            "_________________________________________________________________\n",
            "block4_conv1 (Conv2D)        (None, 4, 4, 512)         1180160   \n",
            "_________________________________________________________________\n",
            "block4_conv2 (Conv2D)        (None, 4, 4, 512)         2359808   \n",
            "_________________________________________________________________\n",
            "block4_conv3 (Conv2D)        (None, 4, 4, 512)         2359808   \n",
            "_________________________________________________________________\n",
            "block4_pool (MaxPooling2D)   (None, 2, 2, 512)         0         \n",
            "_________________________________________________________________\n",
            "block5_conv1 (Conv2D)        (None, 2, 2, 512)         2359808   \n",
            "_________________________________________________________________\n",
            "block5_conv2 (Conv2D)        (None, 2, 2, 512)         2359808   \n",
            "_________________________________________________________________\n",
            "block5_conv3 (Conv2D)        (None, 2, 2, 512)         2359808   \n",
            "_________________________________________________________________\n",
            "block5_pool (MaxPooling2D)   (None, 1, 1, 512)         0         \n",
            "_________________________________________________________________\n",
            "flatten (Flatten)            (None, 512)               0         \n",
            "_________________________________________________________________\n",
            "fc1 (Dense)                  (None, 4096)              2101248   \n",
            "_________________________________________________________________\n",
            "fc2 (Dense)                  (None, 4096)              16781312  \n",
            "_________________________________________________________________\n",
            "fc3 (Dense)                  (None, 1000)              4097000   \n",
            "_________________________________________________________________\n",
            "dropout (Dropout)            (None, 1000)              0         \n",
            "_________________________________________________________________\n",
            "predictions (Dense)          (None, 10)                10010     \n",
            "=================================================================\n",
            "Total params: 37,704,258\n",
            "Trainable params: 37,704,258\n",
            "Non-trainable params: 0\n",
            "_________________________________________________________________\n",
            "None\n",
            "**Starting Training..\n",
            "Train on 33500 samples, validate on 16500 samples\n",
            "Epoch 1/10\n",
            "33500/33500 [==============================] - 13s 383us/step - loss: 2.2926 - accuracy: 0.1209 - val_loss: 2.2901 - val_accuracy: 0.1461\n",
            "Epoch 2/10\n",
            "33500/33500 [==============================] - 12s 360us/step - loss: 2.0644 - accuracy: 0.2370 - val_loss: 1.8372 - val_accuracy: 0.3401\n",
            "Epoch 3/10\n",
            "33500/33500 [==============================] - 12s 358us/step - loss: 1.6158 - accuracy: 0.4084 - val_loss: 1.4181 - val_accuracy: 0.4817\n",
            "Epoch 4/10\n",
            "33500/33500 [==============================] - 12s 357us/step - loss: 1.3581 - accuracy: 0.5067 - val_loss: 1.4625 - val_accuracy: 0.4780\n",
            "Epoch 5/10\n",
            "33500/33500 [==============================] - 12s 357us/step - loss: 1.1646 - accuracy: 0.5827 - val_loss: 1.0999 - val_accuracy: 0.6084\n",
            "Epoch 6/10\n",
            "33500/33500 [==============================] - 12s 357us/step - loss: 0.9842 - accuracy: 0.6536 - val_loss: 0.9984 - val_accuracy: 0.6535\n",
            "Epoch 7/10\n",
            "33500/33500 [==============================] - 12s 357us/step - loss: 0.8227 - accuracy: 0.7128 - val_loss: 0.9629 - val_accuracy: 0.6653\n",
            "Epoch 8/10\n",
            "33500/33500 [==============================] - 12s 357us/step - loss: 0.7048 - accuracy: 0.7545 - val_loss: 0.9533 - val_accuracy: 0.6812\n",
            "Epoch 9/10\n",
            "33500/33500 [==============================] - 12s 357us/step - loss: 0.5877 - accuracy: 0.7979 - val_loss: 0.8914 - val_accuracy: 0.7157\n",
            "Epoch 10/10\n",
            "33500/33500 [==============================] - 12s 357us/step - loss: 0.4765 - accuracy: 0.8358 - val_loss: 0.8848 - val_accuracy: 0.7056\n",
            "**Total Execution time 121.42101764678955\n"
          ],
          "name": "stdout"
        }
      ]
    },
    {
      "cell_type": "code",
      "metadata": {
        "colab_type": "code",
        "outputId": "763b3a38-db77-4f7d-b677-d04b0852120a",
        "id": "kZ0sCkT_6Fz0",
        "colab": {
          "base_uri": "https://localhost:8080/",
          "height": 36
        }
      },
      "source": [
        "print(\"Saving Network and weights\")\n",
        "weight_path = 'model/vgg16_wt.h5'\n",
        "model.save_weights(weight_path)"
      ],
      "execution_count": 0,
      "outputs": [
        {
          "output_type": "stream",
          "text": [
            "Saving Network and weights\n"
          ],
          "name": "stdout"
        }
      ]
    },
    {
      "cell_type": "code",
      "metadata": {
        "colab_type": "code",
        "id": "Ui7og37P6Fz9",
        "colab": {}
      },
      "source": [
        "print(\"Evaluating network performance on Test Data\")\n",
        "score = model.evaluate(x_test, y_test, verbose=1,batch_size=batch_size)\n",
        "print('Test loss:', score[0])\n",
        "print('Test accuracy:', score[1])"
      ],
      "execution_count": 0,
      "outputs": []
    },
    {
      "cell_type": "code",
      "metadata": {
        "colab_type": "code",
        "id": "G57Im2kk6F0F",
        "colab": {}
      },
      "source": [
        "plt.plot(history.history['accuracy'])\n",
        "plt.plot(history.history['val_accuracy'])\n",
        "plt.title('model accuracy')\n",
        "plt.ylabel('accuracy')\n",
        "plt.xlabel('epoch')\n",
        "plt.legend(['train', 'val'], loc='upper left')\n",
        "plt.show()\n",
        "# summarize history for loss\n",
        "plt.plot(history.history['loss'])\n",
        "plt.plot(history.history['val_loss'])\n",
        "plt.title('model loss')\n",
        "plt.ylabel('loss')\n",
        "plt.xlabel('epoch')\n",
        "plt.legend(['train', 'val'], loc='upper left')\n",
        "plt.show()"
      ],
      "execution_count": 0,
      "outputs": []
    },
    {
      "cell_type": "code",
      "metadata": {
        "colab_type": "code",
        "id": "s6re5plk6F0N",
        "colab": {}
      },
      "source": [
        "predictions = model.predict(x_test, verbose=0)"
      ],
      "execution_count": 0,
      "outputs": []
    },
    {
      "cell_type": "code",
      "metadata": {
        "colab_type": "code",
        "id": "HDw5BDUv6F0U",
        "colab": {}
      },
      "source": [
        "# from sklearn.metrics import classification_report, confusion_matrix\n",
        "# confusion_matrix(np.argmax(data.y_test,axis=1),np.argmax(predictions,axis=1))\n",
        "import scikitplot as skplt\n",
        "skplt.metrics.plot_confusion_matrix(np.argmax(y_test,axis=1),np.argmax(predictions,axis=1), normalize=True,figsize = (7,7))"
      ],
      "execution_count": 0,
      "outputs": []
    },
    {
      "cell_type": "code",
      "metadata": {
        "colab_type": "code",
        "id": "U7bAOiB-6F0a",
        "colab": {}
      },
      "source": [
        "def test_accuracy():\n",
        "    err = []\n",
        "    tru = []\n",
        "    for i in range(predictions.shape[0]):\n",
        "        if np.argmax(predictions[i]) == np.argmax(y_test[i]):\n",
        "            tru.append(i)\n",
        "        else:\n",
        "            err.append(i)\n",
        "    return tru, err\n",
        "\n",
        "p = test_accuracy()\n",
        "\n",
        "# plt.subplot(330 + 1 + i)\n",
        "# plt.imshow(x_train[i], cmap=\"gray\")\n",
        "print(\"True:          {}\".format(np.argmax(y_test[p[0][0:5]], axis =1)))\n",
        "print(\"classified as: {}\".format(np.argmax(predictions[p[0][0:5]], axis=1)))\n",
        "print(\"Error Cases\")\n",
        "print(\"True:          {}\".format(np.argmax(y_test[p[1][6:11]], axis =1)))\n",
        "print(\"classified as: {}\".format(np.argmax(predictions[p[1][6:11]], axis=1)))"
      ],
      "execution_count": 0,
      "outputs": []
    },
    {
      "cell_type": "code",
      "metadata": {
        "colab_type": "code",
        "id": "0Uwkjrgo6F0f",
        "colab": {}
      },
      "source": [
        "K.clear_session()"
      ],
      "execution_count": 0,
      "outputs": []
    },
    {
      "cell_type": "markdown",
      "metadata": {
        "id": "Ql7B9Em305k5",
        "colab_type": "text"
      },
      "source": [
        "## Paramter Evalaution"
      ]
    },
    {
      "cell_type": "code",
      "metadata": {
        "scrolled": true,
        "id": "E8tHbqwd05k6",
        "colab_type": "code",
        "colab": {}
      },
      "source": [
        "# performing best optimiser selection on mnist and cifar\n",
        "for dataset in ['mnist','cifar10']:\n",
        "    for opt in ['sgd', 'adam', 'adagrad']:\n",
        "        learning_rate = 0.01\n",
        "        dropout_rate = 0.2\n",
        "        act = 'softmax'\n",
        "        # opt = 'sgd'\n",
        "        classes = 10\n",
        "        dataset = \"cifar10\"\n",
        "        input_dims = (32,32)\n",
        "        print(\"**Selecting Dataset\", dataset)\n",
        "        print(\"**Coverting \",dataset,\" to 3 channel dims \",str(input_dims))\n",
        "        x_train, x_test, x_val, y_train, y_test, y_val = get_dataset(dataset,final_shape=(32,32))\n",
        "        print(\"**Dataset Dimensions:\")\n",
        "        print(\"**Training Dataset Dims: \",x_train.shape,y_train.shape)\n",
        "        print(\"**Validation Dataset Dims: \",x_val.shape,y_val.shape)\n",
        "        print(\"**Test Dataset Dims: \",x_test.shape,y_test.shape)\n",
        "\n",
        "\n",
        "        input_shape = x_train.shape[1:]\n",
        "        print(\"**Creating VGG16 network\")\n",
        "        inputs = layers.Input(shape=input_shape)\n",
        "        model = get_model(input_shape,classes,dropout_rate,act)\n",
        "        print(\"**Selecting Optimiser\", opt,\" with Learning rate \",learning_rate)\n",
        "        opt_type = get_optimiser(opt,learning_rate)\n",
        "\n",
        "        model.compile(loss=keras.losses.categorical_crossentropy,optimizer=opt_type,metrics=['accuracy'])\n",
        "        plot_model(model, to_file='model/vgg16.png')\n",
        "\n",
        "        print(model.summary())\n",
        "\n",
        "        print(\"**Starting Training..\")\n",
        "        start = time.time()\n",
        "        history = model.fit(x_train, y_train,\n",
        "                            batch_size=batch_size,\n",
        "                            epochs=10,\n",
        "                            verbose=1,\n",
        "                            validation_data=(x_val, y_val))\n",
        "        end = time.time()\n",
        "        total_exec_time = end - start\n",
        "\n",
        "        print(\"Saving Network and weights\")\n",
        "        weight_path = 'model/vgg16_wt.h5'\n",
        "        model.save_weights(weight_path)\n",
        "        print(\"Evaluating network performance on Test Data\")\n",
        "        score = model.evaluate(data.x_test, data.y_test, verbose=1,batch_size=batch_size)\n",
        "        print('Test loss:', score[0])\n",
        "        print('Test accuracy:', score[1])\n",
        "\n",
        "        hist = {}\n",
        "        hist['model_name'] = 'VGG16'\n",
        "        hist['dataset'] = dataset\n",
        "        hist['dropout_rate'] = dropout_rate\n",
        "        hist['activation'] = act\n",
        "        hist['lr_rate'] = learning_rate\n",
        "        hist['epochs'] = epochs\n",
        "        hist['opt'] = opt\n",
        "        hist['input_dims'] = data.x_train.shape[1:]\n",
        "        hist = dict(hist, **history.history)\n",
        "        hist['test_loss'] = score[0]\n",
        "        hist['test_accuracy'] = score[1]\n",
        "        np.save('model.txt',hist)\n",
        "        result = result.append(hist, ignore_index=True)\n",
        "        result.to_csv(\"vgg_n.csv\", index=False)\n",
        "        # K.clear_session()\n",
        "        # cuda.select_device(0)\n",
        "        # cuda.close()"
      ],
      "execution_count": 0,
      "outputs": []
    },
    {
      "cell_type": "code",
      "metadata": {
        "id": "O4Xs54RC05k-",
        "colab_type": "code",
        "colab": {}
      },
      "source": [
        "result.to_csv(\"vgg.csv\", index=False)"
      ],
      "execution_count": 0,
      "outputs": []
    },
    {
      "cell_type": "code",
      "metadata": {
        "id": "i0CUfRAp05lC",
        "colab_type": "code",
        "colab": {}
      },
      "source": [
        "K.clear_session()"
      ],
      "execution_count": 0,
      "outputs": []
    },
    {
      "cell_type": "code",
      "metadata": {
        "id": "0kf13nAz05lF",
        "colab_type": "code",
        "colab": {}
      },
      "source": [
        "# checking performace on diffent learning rates for mnist\n",
        "for dataset in ['mnist','cifar10']:\n",
        "    for learning_rate in [0.0001, 0.001, 0.01, 0.1, 0.5, 1]:\n",
        "        # learning_rate = 0.01\n",
        "        dropout_rate = 0.2\n",
        "        act = 'softmax'\n",
        "        opt = 'sgd'\n",
        "        classes = 10\n",
        "        dataset = \"cifar10\"\n",
        "        input_dims = (32,32)\n",
        "        print(\"**Selecting Dataset\", dataset)\n",
        "        print(\"**Coverting \",dataset,\" to 3 channel dims \",str(input_dims))\n",
        "        x_train, x_test, x_val, y_train, y_test, y_val = get_dataset(dataset,final_shape=(32,32))\n",
        "        print(\"**Dataset Dimensions:\")\n",
        "        print(\"**Training Dataset Dims: \",x_train.shape,y_train.shape)\n",
        "        print(\"**Validation Dataset Dims: \",x_val.shape,y_val.shape)\n",
        "        print(\"**Test Dataset Dims: \",x_test.shape,y_test.shape)\n",
        "\n",
        "\n",
        "        input_shape = x_train.shape[1:]\n",
        "        print(\"**Creating VGG16 network\")\n",
        "        inputs = layers.Input(shape=input_shape)\n",
        "        model = get_model(input_shape,classes,dropout_rate,act)\n",
        "        print(\"**Selecting Optimiser\", opt,\" with Learning rate \",learning_rate)\n",
        "        opt_type = get_optimiser(opt,learning_rate)\n",
        "\n",
        "        model.compile(loss=keras.losses.categorical_crossentropy,optimizer=opt_type,metrics=['accuracy'])\n",
        "        plot_model(model, to_file='model/vgg16.png')\n",
        "\n",
        "        print(model.summary())\n",
        "\n",
        "        print(\"**Starting Training..\")\n",
        "        start = time.time()\n",
        "        history = model.fit(x_train, y_train,\n",
        "                            batch_size=batch_size,\n",
        "                            epochs=10,\n",
        "                            verbose=1,\n",
        "                            validation_data=(x_val, y_val))\n",
        "        end = time.time()\n",
        "        total_exec_time = end - start\n",
        "\n",
        "        print(\"Saving Network and weights\")\n",
        "        weight_path = 'model/vgg16_wt.h5'\n",
        "        model.save_weights(weight_path)\n",
        "        print(\"Evaluating network performance on Test Data\")\n",
        "        score = model.evaluate(data.x_test, data.y_test, verbose=1,batch_size=batch_size)\n",
        "        print('Test loss:', score[0])\n",
        "        print('Test accuracy:', score[1])\n",
        "\n",
        "        hist = {}\n",
        "        hist['model_name'] = 'VGG16'\n",
        "        hist['dataset'] = dataset\n",
        "        hist['dropout_rate'] = dropout_rate\n",
        "        hist['activation'] = act\n",
        "        hist['lr_rate'] = learning_rate\n",
        "        hist['epochs'] = epochs\n",
        "        hist['opt'] = opt\n",
        "        hist['input_dims'] = data.x_train.shape[1:]\n",
        "        hist = dict(hist, **history.history)\n",
        "        hist['test_loss'] = score[0]\n",
        "        hist['test_accuracy'] = score[1]\n",
        "        np.save('model.txt',hist)\n",
        "        result = result.append(hist, ignore_index=True)\n",
        "        result.to_csv(\"vgg_n.csv\", index=False)\n",
        "        # K.clear_session()\n",
        "        # cuda.select_device(0)\n",
        "        # cuda.close()"
      ],
      "execution_count": 0,
      "outputs": []
    },
    {
      "cell_type": "code",
      "metadata": {
        "id": "C8Bs2Dio05lJ",
        "colab_type": "code",
        "colab": {}
      },
      "source": [
        "result.to_csv(\"vgg.csv\", index=False)"
      ],
      "execution_count": 0,
      "outputs": []
    },
    {
      "cell_type": "code",
      "metadata": {
        "id": "yLzfppcb05lN",
        "colab_type": "code",
        "colab": {}
      },
      "source": [
        "K.clear_session()"
      ],
      "execution_count": 0,
      "outputs": []
    },
    {
      "cell_type": "code",
      "metadata": {
        "id": "YVx8n3Wl05lP",
        "colab_type": "code",
        "colab": {}
      },
      "source": [
        "# checking performace on diffent activation for mnist\n",
        "for dataset in ['mnist','cifar10']:\n",
        "    for act in ['softmax','relu', 'tanh', 'elu']:\n",
        "        learning_rate = 0.01\n",
        "        dropout_rate = 0.2\n",
        "        # act = 'softmax'\n",
        "        opt = 'sgd'\n",
        "        classes = 10\n",
        "        dataset = \"cifar10\"\n",
        "        input_dims = (32,32)\n",
        "        print(\"**Selecting Dataset\", dataset)\n",
        "        print(\"**Coverting \",dataset,\" to 3 channel dims \",str(input_dims))\n",
        "        x_train, x_test, x_val, y_train, y_test, y_val = get_dataset(dataset,final_shape=(32,32))\n",
        "        print(\"**Dataset Dimensions:\")\n",
        "        print(\"**Training Dataset Dims: \",x_train.shape,y_train.shape)\n",
        "        print(\"**Validation Dataset Dims: \",x_val.shape,y_val.shape)\n",
        "        print(\"**Test Dataset Dims: \",x_test.shape,y_test.shape)\n",
        "\n",
        "\n",
        "        input_shape = x_train.shape[1:]\n",
        "        print(\"**Creating VGG16 network\")\n",
        "        inputs = layers.Input(shape=input_shape)\n",
        "        model = get_model(input_shape,classes,dropout_rate,act)\n",
        "        print(\"**Selecting Optimiser\", opt,\" with Learning rate \",learning_rate)\n",
        "        opt_type = get_optimiser(opt,learning_rate)\n",
        "\n",
        "        model.compile(loss=keras.losses.categorical_crossentropy,optimizer=opt_type,metrics=['accuracy'])\n",
        "        plot_model(model, to_file='model/vgg16.png')\n",
        "\n",
        "        print(model.summary())\n",
        "\n",
        "        print(\"**Starting Training..\")\n",
        "        start = time.time()\n",
        "        history = model.fit(x_train, y_train,\n",
        "                            batch_size=batch_size,\n",
        "                            epochs=10,\n",
        "                            verbose=1,\n",
        "                            validation_data=(x_val, y_val))\n",
        "        end = time.time()\n",
        "        total_exec_time = end - start\n",
        "\n",
        "        print(\"Saving Network and weights\")\n",
        "        weight_path = 'model/vgg16_wt.h5'\n",
        "        model.save_weights(weight_path)\n",
        "        print(\"Evaluating network performance on Test Data\")\n",
        "        score = model.evaluate(data.x_test, data.y_test, verbose=1,batch_size=batch_size)\n",
        "        print('Test loss:', score[0])\n",
        "        print('Test accuracy:', score[1])\n",
        "\n",
        "        hist = {}\n",
        "        hist['model_name'] = 'VGG16'\n",
        "        hist['dataset'] = dataset\n",
        "        hist['dropout_rate'] = dropout_rate\n",
        "        hist['activation'] = act\n",
        "        hist['lr_rate'] = learning_rate\n",
        "        hist['epochs'] = epochs\n",
        "        hist['opt'] = opt\n",
        "        hist['input_dims'] = data.x_train.shape[1:]\n",
        "        hist = dict(hist, **history.history)\n",
        "        hist['test_loss'] = score[0]\n",
        "        hist['test_accuracy'] = score[1]\n",
        "        np.save('model.txt',hist)\n",
        "        result = result.append(hist, ignore_index=True)\n",
        "        result.to_csv(\"vgg_n.csv\", index=False)\n",
        "        # K.clear_session()\n",
        "        # cuda.select_device(0)\n",
        "        # cuda.close()"
      ],
      "execution_count": 0,
      "outputs": []
    },
    {
      "cell_type": "code",
      "metadata": {
        "id": "d1ogGFTu05lT",
        "colab_type": "code",
        "colab": {}
      },
      "source": [
        "result.to_csv(\"vgg.csv\", index=False)"
      ],
      "execution_count": 0,
      "outputs": []
    },
    {
      "cell_type": "code",
      "metadata": {
        "id": "cBiixY3p05lX",
        "colab_type": "code",
        "colab": {}
      },
      "source": [
        "K.clear_session()"
      ],
      "execution_count": 0,
      "outputs": []
    },
    {
      "cell_type": "code",
      "metadata": {
        "id": "2WPFwIJb05la",
        "colab_type": "code",
        "colab": {}
      },
      "source": [
        "# checking performace on diffent dropout for mnist\n",
        "for dataset in ['mnist','cifar10']:\n",
        "    for dropout_rate in [0.1, 0.3, 0.7, 0.9]:\n",
        "        learning_rate = 0.01\n",
        "        # dropout_rate = 0.2\n",
        "        act = 'softmax'\n",
        "        opt = 'sgd'\n",
        "        classes = 10\n",
        "        dataset = \"cifar10\"\n",
        "        input_dims = (32,32)\n",
        "        print(\"**Selecting Dataset\", dataset)\n",
        "        print(\"**Coverting \",dataset,\" to 3 channel dims \",str(input_dims))\n",
        "        x_train, x_test, x_val, y_train, y_test, y_val = get_dataset(dataset,final_shape=(32,32))\n",
        "        print(\"**Dataset Dimensions:\")\n",
        "        print(\"**Training Dataset Dims: \",x_train.shape,y_train.shape)\n",
        "        print(\"**Validation Dataset Dims: \",x_val.shape,y_val.shape)\n",
        "        print(\"**Test Dataset Dims: \",x_test.shape,y_test.shape)\n",
        "\n",
        "\n",
        "        input_shape = x_train.shape[1:]\n",
        "        print(\"**Creating VGG16 network\")\n",
        "        inputs = layers.Input(shape=input_shape)\n",
        "        model = get_model(input_shape,classes,dropout_rate,act)\n",
        "        print(\"**Selecting Optimiser\", opt,\" with Learning rate \",learning_rate)\n",
        "        opt_type = get_optimiser(opt,learning_rate)\n",
        "\n",
        "        model.compile(loss=keras.losses.categorical_crossentropy,optimizer=opt_type,metrics=['accuracy'])\n",
        "        plot_model(model, to_file='model/vgg16.png')\n",
        "\n",
        "        print(model.summary())\n",
        "\n",
        "        print(\"**Starting Training..\")\n",
        "        start = time.time()\n",
        "        history = model.fit(x_train, y_train,\n",
        "                            batch_size=batch_size,\n",
        "                            epochs=10,\n",
        "                            verbose=1,\n",
        "                            validation_data=(x_val, y_val))\n",
        "        end = time.time()\n",
        "        total_exec_time = end - start\n",
        "\n",
        "        print(\"Saving Network and weights\")\n",
        "        weight_path = 'model/vgg16_wt.h5'\n",
        "        model.save_weights(weight_path)\n",
        "        print(\"Evaluating network performance on Test Data\")\n",
        "        score = model.evaluate(data.x_test, data.y_test, verbose=1,batch_size=batch_size)\n",
        "        print('Test loss:', score[0])\n",
        "        print('Test accuracy:', score[1])\n",
        "\n",
        "        hist = {}\n",
        "        hist['model_name'] = 'VGG16'\n",
        "        hist['dataset'] = dataset\n",
        "        hist['dropout_rate'] = dropout_rate\n",
        "        hist['activation'] = act\n",
        "        hist['lr_rate'] = learning_rate\n",
        "        hist['epochs'] = epochs\n",
        "        hist['opt'] = opt\n",
        "        hist['input_dims'] = data.x_train.shape[1:]\n",
        "        hist = dict(hist, **history.history)\n",
        "        hist['test_loss'] = score[0]\n",
        "        hist['test_accuracy'] = score[1]\n",
        "        np.save('model.txt',hist)\n",
        "        result = result.append(hist, ignore_index=True)\n",
        "        result.to_csv(\"vgg_n.csv\", index=False)\n",
        "        # K.clear_session()\n",
        "        # cuda.select_device(0)\n",
        "        # cuda.close()"
      ],
      "execution_count": 0,
      "outputs": []
    },
    {
      "cell_type": "code",
      "metadata": {
        "id": "xo9ooQgs05ld",
        "colab_type": "code",
        "colab": {}
      },
      "source": [
        "result.to_csv(\"vgg.csv\", index=False)"
      ],
      "execution_count": 0,
      "outputs": []
    },
    {
      "cell_type": "code",
      "metadata": {
        "id": "xflgAl-_05lh",
        "colab_type": "code",
        "colab": {}
      },
      "source": [
        "K.clear_session()"
      ],
      "execution_count": 0,
      "outputs": []
    },
    {
      "cell_type": "code",
      "metadata": {
        "id": "YWmJCzXS05lj",
        "colab_type": "code",
        "colab": {}
      },
      "source": [
        ""
      ],
      "execution_count": 0,
      "outputs": []
    }
  ]
}